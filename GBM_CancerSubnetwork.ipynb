{
 "cells": [
  {
   "cell_type": "code",
   "execution_count": 1,
   "metadata": {},
   "outputs": [],
   "source": [
    "# Import pyNBS modules\n",
    "from pyNBS import data_import_tools as dit\n",
    "from pyNBS import network_propagation as prop\n",
    "from pyNBS import pyNBS_core as core\n",
    "from pyNBS import pyNBS_single\n",
    "from pyNBS import consensus_clustering as cc\n",
    "from pyNBS import pyNBS_plotting as plot\n",
    "\n",
    "# Import other needed packages\n",
    "import os\n",
    "import time\n",
    "import pandas as pd\n",
    "import numpy as np\n",
    "from IPython.display import Image"
   ]
  },
  {
   "cell_type": "markdown",
   "metadata": {},
   "source": [
    "## Load Data\n",
    "### Load binary somatic mutation data\n",
    "First, we must load the somatic mutation and network data for running pyNBS. We will also set an output directory location to save our results."
   ]
  },
  {
   "cell_type": "code",
   "execution_count": 2,
   "metadata": {
    "scrolled": true
   },
   "outputs": [
    {
     "name": "stdout",
     "output_type": "stream",
     "text": [
      "Binary somatic mutation matrix saved\n",
      "MAF file processed: ./GBMmaf.txt 6.83 seconds.\n"
     ]
    }
   ],
   "source": [
    "maf_path = './GBMmaf.txt'\n",
    "sm_path = './GBM_sm_data.txt'\n",
    "dit.process_TCGA_MAF(maf_path, './GBM_sm_data.txt', verbose = True)"
   ]
  },
  {
   "cell_type": "code",
   "execution_count": 3,
   "metadata": {},
   "outputs": [
    {
     "data": {
      "text/html": [
       "<div>\n",
       "<style scoped>\n",
       "    .dataframe tbody tr th:only-of-type {\n",
       "        vertical-align: middle;\n",
       "    }\n",
       "\n",
       "    .dataframe tbody tr th {\n",
       "        vertical-align: top;\n",
       "    }\n",
       "\n",
       "    .dataframe thead th {\n",
       "        text-align: right;\n",
       "    }\n",
       "</style>\n",
       "<table border=\"1\" class=\"dataframe\">\n",
       "  <thead>\n",
       "    <tr style=\"text-align: right;\">\n",
       "      <th></th>\n",
       "      <th>A1BG</th>\n",
       "      <th>A1CF</th>\n",
       "      <th>A2M</th>\n",
       "      <th>A2ML1</th>\n",
       "      <th>A4GALT</th>\n",
       "      <th>A4GNT</th>\n",
       "      <th>AAAS</th>\n",
       "      <th>AACS</th>\n",
       "      <th>AACSP1</th>\n",
       "      <th>AADAC</th>\n",
       "      <th>...</th>\n",
       "      <th>ZWINT</th>\n",
       "      <th>ZXDA</th>\n",
       "      <th>ZXDB</th>\n",
       "      <th>ZXDC</th>\n",
       "      <th>ZYG11B</th>\n",
       "      <th>ZYX</th>\n",
       "      <th>ZZEF1</th>\n",
       "      <th>ZZZ3</th>\n",
       "      <th>hsa-mir-1253</th>\n",
       "      <th>pk</th>\n",
       "    </tr>\n",
       "  </thead>\n",
       "  <tbody>\n",
       "    <tr>\n",
       "      <th>TCGA-12-0829</th>\n",
       "      <td>0</td>\n",
       "      <td>0</td>\n",
       "      <td>0</td>\n",
       "      <td>0</td>\n",
       "      <td>1</td>\n",
       "      <td>0</td>\n",
       "      <td>0</td>\n",
       "      <td>0</td>\n",
       "      <td>0</td>\n",
       "      <td>0</td>\n",
       "      <td>...</td>\n",
       "      <td>0</td>\n",
       "      <td>0</td>\n",
       "      <td>0</td>\n",
       "      <td>0</td>\n",
       "      <td>0</td>\n",
       "      <td>0</td>\n",
       "      <td>1</td>\n",
       "      <td>0</td>\n",
       "      <td>0</td>\n",
       "      <td>0</td>\n",
       "    </tr>\n",
       "    <tr>\n",
       "      <th>TCGA-74-6573</th>\n",
       "      <td>0</td>\n",
       "      <td>0</td>\n",
       "      <td>0</td>\n",
       "      <td>0</td>\n",
       "      <td>0</td>\n",
       "      <td>0</td>\n",
       "      <td>0</td>\n",
       "      <td>0</td>\n",
       "      <td>0</td>\n",
       "      <td>0</td>\n",
       "      <td>...</td>\n",
       "      <td>0</td>\n",
       "      <td>0</td>\n",
       "      <td>0</td>\n",
       "      <td>0</td>\n",
       "      <td>0</td>\n",
       "      <td>0</td>\n",
       "      <td>0</td>\n",
       "      <td>0</td>\n",
       "      <td>0</td>\n",
       "      <td>0</td>\n",
       "    </tr>\n",
       "    <tr>\n",
       "      <th>TCGA-RR-A6KA</th>\n",
       "      <td>0</td>\n",
       "      <td>0</td>\n",
       "      <td>0</td>\n",
       "      <td>0</td>\n",
       "      <td>0</td>\n",
       "      <td>0</td>\n",
       "      <td>0</td>\n",
       "      <td>0</td>\n",
       "      <td>0</td>\n",
       "      <td>0</td>\n",
       "      <td>...</td>\n",
       "      <td>0</td>\n",
       "      <td>0</td>\n",
       "      <td>0</td>\n",
       "      <td>0</td>\n",
       "      <td>0</td>\n",
       "      <td>0</td>\n",
       "      <td>0</td>\n",
       "      <td>0</td>\n",
       "      <td>0</td>\n",
       "      <td>0</td>\n",
       "    </tr>\n",
       "    <tr>\n",
       "      <th>TCGA-12-0775</th>\n",
       "      <td>0</td>\n",
       "      <td>0</td>\n",
       "      <td>0</td>\n",
       "      <td>0</td>\n",
       "      <td>0</td>\n",
       "      <td>0</td>\n",
       "      <td>0</td>\n",
       "      <td>0</td>\n",
       "      <td>0</td>\n",
       "      <td>0</td>\n",
       "      <td>...</td>\n",
       "      <td>0</td>\n",
       "      <td>0</td>\n",
       "      <td>1</td>\n",
       "      <td>0</td>\n",
       "      <td>0</td>\n",
       "      <td>0</td>\n",
       "      <td>0</td>\n",
       "      <td>0</td>\n",
       "      <td>0</td>\n",
       "      <td>0</td>\n",
       "    </tr>\n",
       "    <tr>\n",
       "      <th>TCGA-06-0145</th>\n",
       "      <td>0</td>\n",
       "      <td>0</td>\n",
       "      <td>0</td>\n",
       "      <td>0</td>\n",
       "      <td>0</td>\n",
       "      <td>0</td>\n",
       "      <td>0</td>\n",
       "      <td>0</td>\n",
       "      <td>0</td>\n",
       "      <td>0</td>\n",
       "      <td>...</td>\n",
       "      <td>0</td>\n",
       "      <td>0</td>\n",
       "      <td>0</td>\n",
       "      <td>0</td>\n",
       "      <td>0</td>\n",
       "      <td>0</td>\n",
       "      <td>0</td>\n",
       "      <td>0</td>\n",
       "      <td>0</td>\n",
       "      <td>0</td>\n",
       "    </tr>\n",
       "    <tr>\n",
       "      <th>...</th>\n",
       "      <td>...</td>\n",
       "      <td>...</td>\n",
       "      <td>...</td>\n",
       "      <td>...</td>\n",
       "      <td>...</td>\n",
       "      <td>...</td>\n",
       "      <td>...</td>\n",
       "      <td>...</td>\n",
       "      <td>...</td>\n",
       "      <td>...</td>\n",
       "      <td>...</td>\n",
       "      <td>...</td>\n",
       "      <td>...</td>\n",
       "      <td>...</td>\n",
       "      <td>...</td>\n",
       "      <td>...</td>\n",
       "      <td>...</td>\n",
       "      <td>...</td>\n",
       "      <td>...</td>\n",
       "      <td>...</td>\n",
       "      <td>...</td>\n",
       "    </tr>\n",
       "    <tr>\n",
       "      <th>TCGA-14-1829</th>\n",
       "      <td>0</td>\n",
       "      <td>0</td>\n",
       "      <td>0</td>\n",
       "      <td>0</td>\n",
       "      <td>0</td>\n",
       "      <td>0</td>\n",
       "      <td>0</td>\n",
       "      <td>0</td>\n",
       "      <td>0</td>\n",
       "      <td>0</td>\n",
       "      <td>...</td>\n",
       "      <td>0</td>\n",
       "      <td>0</td>\n",
       "      <td>0</td>\n",
       "      <td>0</td>\n",
       "      <td>0</td>\n",
       "      <td>0</td>\n",
       "      <td>0</td>\n",
       "      <td>0</td>\n",
       "      <td>0</td>\n",
       "      <td>0</td>\n",
       "    </tr>\n",
       "    <tr>\n",
       "      <th>TCGA-06-0188</th>\n",
       "      <td>0</td>\n",
       "      <td>0</td>\n",
       "      <td>0</td>\n",
       "      <td>0</td>\n",
       "      <td>0</td>\n",
       "      <td>0</td>\n",
       "      <td>0</td>\n",
       "      <td>0</td>\n",
       "      <td>0</td>\n",
       "      <td>0</td>\n",
       "      <td>...</td>\n",
       "      <td>0</td>\n",
       "      <td>0</td>\n",
       "      <td>0</td>\n",
       "      <td>0</td>\n",
       "      <td>0</td>\n",
       "      <td>0</td>\n",
       "      <td>0</td>\n",
       "      <td>0</td>\n",
       "      <td>0</td>\n",
       "      <td>0</td>\n",
       "    </tr>\n",
       "    <tr>\n",
       "      <th>TCGA-12-0818</th>\n",
       "      <td>0</td>\n",
       "      <td>0</td>\n",
       "      <td>0</td>\n",
       "      <td>0</td>\n",
       "      <td>0</td>\n",
       "      <td>0</td>\n",
       "      <td>0</td>\n",
       "      <td>0</td>\n",
       "      <td>0</td>\n",
       "      <td>0</td>\n",
       "      <td>...</td>\n",
       "      <td>0</td>\n",
       "      <td>0</td>\n",
       "      <td>0</td>\n",
       "      <td>0</td>\n",
       "      <td>0</td>\n",
       "      <td>0</td>\n",
       "      <td>0</td>\n",
       "      <td>0</td>\n",
       "      <td>0</td>\n",
       "      <td>0</td>\n",
       "    </tr>\n",
       "    <tr>\n",
       "      <th>TCGA-06-6698</th>\n",
       "      <td>0</td>\n",
       "      <td>0</td>\n",
       "      <td>0</td>\n",
       "      <td>0</td>\n",
       "      <td>0</td>\n",
       "      <td>0</td>\n",
       "      <td>0</td>\n",
       "      <td>0</td>\n",
       "      <td>0</td>\n",
       "      <td>0</td>\n",
       "      <td>...</td>\n",
       "      <td>0</td>\n",
       "      <td>0</td>\n",
       "      <td>0</td>\n",
       "      <td>0</td>\n",
       "      <td>0</td>\n",
       "      <td>0</td>\n",
       "      <td>0</td>\n",
       "      <td>0</td>\n",
       "      <td>0</td>\n",
       "      <td>0</td>\n",
       "    </tr>\n",
       "    <tr>\n",
       "      <th>TCGA-4W-AA9S</th>\n",
       "      <td>0</td>\n",
       "      <td>0</td>\n",
       "      <td>0</td>\n",
       "      <td>0</td>\n",
       "      <td>0</td>\n",
       "      <td>0</td>\n",
       "      <td>0</td>\n",
       "      <td>0</td>\n",
       "      <td>0</td>\n",
       "      <td>0</td>\n",
       "      <td>...</td>\n",
       "      <td>0</td>\n",
       "      <td>0</td>\n",
       "      <td>0</td>\n",
       "      <td>0</td>\n",
       "      <td>0</td>\n",
       "      <td>0</td>\n",
       "      <td>0</td>\n",
       "      <td>0</td>\n",
       "      <td>0</td>\n",
       "      <td>0</td>\n",
       "    </tr>\n",
       "  </tbody>\n",
       "</table>\n",
       "<p>393 rows × 17106 columns</p>\n",
       "</div>"
      ],
      "text/plain": [
       "              A1BG  A1CF  A2M  A2ML1  A4GALT  A4GNT  AAAS  AACS  AACSP1  \\\n",
       "TCGA-12-0829     0     0    0      0       1      0     0     0       0   \n",
       "TCGA-74-6573     0     0    0      0       0      0     0     0       0   \n",
       "TCGA-RR-A6KA     0     0    0      0       0      0     0     0       0   \n",
       "TCGA-12-0775     0     0    0      0       0      0     0     0       0   \n",
       "TCGA-06-0145     0     0    0      0       0      0     0     0       0   \n",
       "...            ...   ...  ...    ...     ...    ...   ...   ...     ...   \n",
       "TCGA-14-1829     0     0    0      0       0      0     0     0       0   \n",
       "TCGA-06-0188     0     0    0      0       0      0     0     0       0   \n",
       "TCGA-12-0818     0     0    0      0       0      0     0     0       0   \n",
       "TCGA-06-6698     0     0    0      0       0      0     0     0       0   \n",
       "TCGA-4W-AA9S     0     0    0      0       0      0     0     0       0   \n",
       "\n",
       "              AADAC  ...  ZWINT  ZXDA  ZXDB  ZXDC  ZYG11B  ZYX  ZZEF1  ZZZ3  \\\n",
       "TCGA-12-0829      0  ...      0     0     0     0       0    0      1     0   \n",
       "TCGA-74-6573      0  ...      0     0     0     0       0    0      0     0   \n",
       "TCGA-RR-A6KA      0  ...      0     0     0     0       0    0      0     0   \n",
       "TCGA-12-0775      0  ...      0     0     1     0       0    0      0     0   \n",
       "TCGA-06-0145      0  ...      0     0     0     0       0    0      0     0   \n",
       "...             ...  ...    ...   ...   ...   ...     ...  ...    ...   ...   \n",
       "TCGA-14-1829      0  ...      0     0     0     0       0    0      0     0   \n",
       "TCGA-06-0188      0  ...      0     0     0     0       0    0      0     0   \n",
       "TCGA-12-0818      0  ...      0     0     0     0       0    0      0     0   \n",
       "TCGA-06-6698      0  ...      0     0     0     0       0    0      0     0   \n",
       "TCGA-4W-AA9S      0  ...      0     0     0     0       0    0      0     0   \n",
       "\n",
       "              hsa-mir-1253  pk  \n",
       "TCGA-12-0829             0   0  \n",
       "TCGA-74-6573             0   0  \n",
       "TCGA-RR-A6KA             0   0  \n",
       "TCGA-12-0775             0   0  \n",
       "TCGA-06-0145             0   0  \n",
       "...                    ...  ..  \n",
       "TCGA-14-1829             0   0  \n",
       "TCGA-06-0188             0   0  \n",
       "TCGA-12-0818             0   0  \n",
       "TCGA-06-6698             0   0  \n",
       "TCGA-4W-AA9S             0   0  \n",
       "\n",
       "[393 rows x 17106 columns]"
      ]
     },
     "execution_count": 3,
     "metadata": {},
     "output_type": "execute_result"
    }
   ],
   "source": [
    "sm_mat = pd.read_csv(sm_path, index_col = 0).astype(int)\n",
    "sm_mat"
   ]
  },
  {
   "cell_type": "markdown",
   "metadata": {},
   "source": [
    "### Load molecular network\n",
    "The network file is a 2-column text file representing an unweighted network. Each row represents a single edge in the molecular network.  \n",
    "\n",
    "For more examples and definitions in the network file format, please see our Github Wiki page:  \n",
    "https://github.com/huangger/pyNBS/wiki/Molecular-Network-File-Format"
   ]
  },
  {
   "cell_type": "code",
   "execution_count": 4,
   "metadata": {},
   "outputs": [
    {
     "name": "stdout",
     "output_type": "stream",
     "text": [
      "Network File Loaded: ./Example_Data/Network_Files/CancerSubnetwork.txt\n"
     ]
    },
    {
     "data": {
      "text/plain": [
       "NodeView(('HSPA2', 'RPN1', 'GK2', 'HSPA6', 'PPP3R1', 'DLG1', 'YWHAH', 'HIST1H4I', 'HSPA8', 'PCSK6', 'PCSK7', 'PRPF8', 'TPI1', 'AKT3', 'IKBKG', 'SEC24D', 'DHX15', 'RFWD2', 'TYK2', 'PFKP', 'PPP3R2', 'MAP3K7', 'ACTG1', 'RARA', 'EP300', 'CACYBP', 'ACTG2', 'CDC73', 'PABPC3', 'CACNA1A', 'CACNA1B', 'CACNA1C', 'CACNA1E', 'CSNK2A2', 'HSP90AB1', 'PLK1', 'PERP', 'CAD', 'LIG1', 'HDAC2', 'NUP214', 'JAK2', 'LYN', 'CUL1', 'LIPA', 'IGF1R', 'DDX3X', 'GPI', 'CDKN2D', 'NUP98', 'CAMK2D', 'IDH2', 'IDH1', 'HK1', 'NUP93', 'CREB1', 'CD24', 'FXR1', 'TNFRSF21', 'STK3', 'STK4', 'TPR', 'EGFR', 'RFC2', 'GK', 'FGFR3', 'SHMT1', 'GMPS', 'MAPK14', 'ATIC', 'FN1', 'RPS6', 'PPP2CA', 'ACSL3', 'EIF4G1', 'FZR1', 'RBBP7', 'AKT2', 'GSK3B', 'TERF2', 'SYK', 'DDX6', 'XRN1', 'RAD23B', 'UBC', 'PGAM2', 'NTHL1', 'PGK1', 'YBX1', 'ELOC', 'PCNA', 'CTNND1', 'SEC31A', 'ALDH3A2', 'GSK3A', 'EIF4E1B', 'RPL5', 'GAPDH', 'HSP90B1', 'MYLK', 'RRAS', 'ACAA1', 'AKR1A1', 'FEN1', 'CLTC', 'TNPO1', 'STIP1', 'VIM', 'ACADM', 'HSPA1A', 'XRCC6', 'XPO1', 'SFN', 'CHD3', 'RUVBL1', 'ABCF1', 'MET', 'HSPB1', 'JUN', 'CDK2', 'CCT5', 'EFTUD2', 'STAG2', 'RRM2B', 'PPP1R12A', 'H3F3A', 'DDX5', 'CDK4', 'UNG', 'MYL9', 'PGK2', 'CHEK1', 'SMC1A', 'TNPO2', 'NACA', 'RAD51', 'STAG1', 'DLD', 'FAF1', 'MRE11', 'GCK', 'PRKACB', 'PGM1', 'TP53I3', 'PARP1', 'YWHAE', 'DLAT', 'PARP2', 'POLR2B', 'EIF4E', 'ACTB', 'MYH11', 'RBX1', 'RHEB', 'TP53', 'CSNK1A1', 'CDC27', 'PPP5C', 'ARFGEF2', 'PSMD11', 'TOP1', 'MAP3K3', 'CCND1', 'AIFM1', 'CSNK2A1', 'LCK', 'CREBBP', 'EIF4A2', 'MYH10', 'PDGFRB', 'DNMT1', 'MYH14', 'ACP1', 'RAD23A', 'RFC5', 'RFC4', 'EPHA4', 'RFC1', 'ILK', 'RFC3', 'EIF3E', 'PRKAR2A', 'SSBP1', 'POLE', 'PRKAR2B', 'MAPK10', 'MAPK11', 'MAPK12', 'MAPK13', 'FH', 'LCP1', 'GNAI1', 'NCOA2', 'PKLR', 'NCOA1', 'SKP1', 'PGAM4', 'DNAJB1', 'MYH9', 'RPS6KB1', 'RPS6KB2', 'MAPK3', 'MAPK1', 'PSMA6', 'MAPK7', 'PABPC1', 'NFKB1', 'NFKB2', 'DDB1', 'CDKN1A', 'RANBP2', 'PDHA2', 'SRC', 'PDHA1', 'ACACA', 'NUP107', 'CARS', 'ACSS1', 'CCNB1', 'PRKAA2', 'ENO1', 'ENO2', 'DIS3', 'ALDH3A1', 'PRKAR1A', 'PRKAR1B', 'ALDH7A1', 'AIMP1', 'MAPK8', 'TJP1', 'MYL12A', 'ERCC5', 'MAPK9', 'EIF2AK3', 'INSR', 'ALDH2', 'PTEN', 'WASL', 'CDK1', 'PRKACG', 'PDHB', 'PRKACA', 'ATP1A1', 'CDK7', 'MAP2K7', 'SMC3', 'CSNK2B', 'CDC42', 'PPP2R1A', 'MYO5A', 'MAP4K4', 'BPGM', 'EEF1A1', 'MSH2', 'MSH3', 'SF3B1', 'PRDX2', 'MSH6', 'CAT', 'FOXO3', 'HSPA1B', 'FOXO1', 'RIPK2', 'GADD45B', 'RRM2', 'SMC1B', 'FOXO4', 'LTA4H', 'SMARCA1', 'YES1', 'ALDH1A3', 'YWHAZ', 'DDX10', 'CCNA1', 'CDK12', 'NAP1L1', 'YWHAQ', 'MLH3', 'LDHA', 'MLH1', 'RPL22', 'PFKM', 'PFKL', 'HNRNPA2B1', 'PGAM1', 'ACSS2', 'YWHAB', 'RAD50', 'CNOT1', 'HSPA1L', 'POLD1', 'LDHB', 'SIN3A', 'ANXA1', 'ALDH3B2', 'NOS2', 'MAT2A', 'RAD21', 'PRKCA', 'ABCB1', 'PSEN1', 'ALDOA', 'GAPDHS', 'MCM7', 'MCM5', 'AR', 'MCM3', 'MCM2', 'ABCC3', 'ALDH1B1', 'LMNA', 'EEF1B2', 'BAP1', 'HDAC1', 'PKM', 'CCNB2', 'ACTN1', 'EIF4E2', 'PPP1CB', 'PPP1CC', 'PPP1CA', 'CLP1', 'TAB2', 'CALR', 'RPA1', 'NOTCH2', 'NEDD4L', 'ULK2', 'ENO3', 'DKC1', 'SDHA', 'RPL10', 'SDHC', 'SDHB', 'HSP90AA1', 'EWSR1', 'TERF2IP', 'TYROBP', 'IRAK3', 'IFNG', 'CSF3R', 'TNFSF13', 'SERPINE1', 'CETN2', 'H3F3B', 'VEGFA', 'RPS6KA1', 'GZMB', 'CD14', 'GADD45A', 'FLNA', 'IL15RA', 'RAP1A', 'REL', 'SPI1', 'S100A9', 'S100A8', 'TCEA1', 'SLC27A4', 'FCGR3B', 'SPP1', 'SPHK1', 'CHP1', 'CTNNB1', 'ERG', 'MNDA', 'ITGB1', 'LCP2', 'PARD3', 'E2F3', 'C3AR1', 'MAP3K14', 'PPP3CC', 'MLLT3', 'RELB', 'CDKN2B', 'PTGES3', 'SLC2A1', 'PAK1', 'CCL2', 'SPTAN1', 'SLC11A1', 'IL7R', 'PDGFRA', 'SET', 'CSF1R', 'CFLAR', 'MTOR', 'MAD2L1', 'STAB1', 'CEBPB', 'INPPL1', 'NR4A3', 'PRKCB', 'FCGR2B', 'CYTH4', 'NOTCH3', 'CUL4A', 'PMAIP1', 'MAP3K8', 'MAP3K1', 'INHBA', 'CUL2', 'SHC1', 'FPR2', 'CXCL3', 'CXCL2', 'CXCL8', 'CSF2RB', 'CRK', 'XRCC5', 'CLEC7A', 'FOS', 'TRRAP', 'TNFRSF1A', 'MOS', 'CCR1', 'PTAFR', 'RHOT1', 'IL1B', 'HBEGF', 'ICAM1', 'PRDX5', 'TNFRSF1B', 'CD180', 'WAS', 'SFRP2', 'IL11', 'IL6', 'BIRC3', 'CBL', 'MCM6', 'OLR1', 'CASP1', 'RPA2', 'BCL3', 'PTGS2', 'AKT1', 'S100A12', 'ZYX', 'NTRK1', 'MYC', 'DDIT3', 'HK3', 'RET', 'SOCS3', 'ACSL1', 'ACSL4', 'TERF1', 'ARRB2', 'NFKBIZ', 'DNM2', 'RAC2', 'SCD', 'TLR1', 'PIK3R2', 'MYD88', 'IL4R', 'TNFAIP3', 'AIF1', 'NCF2', 'FCER1G', 'KDM6B', 'DUSP5', 'DUSP1', 'CISH', 'NFKBIA', 'DICER1', 'DEK', 'CD163', 'SERPINA1', 'PIM1', 'ORC4', 'TNF', 'NPM1', 'TAB1', 'SIGLEC1', 'BPTF', 'MEN1', 'RAPGEF2', 'MAFB', 'GLI2', 'GPS2', 'RARB', 'HDAC9', 'GLI1', 'CDH1', 'RELA', 'CUL3', 'BRCA1', 'MAPKAPK3', 'BRCA2', 'TRIM24', 'SP1', 'SMARCD1', 'MGMT', 'BRD4', 'MDM2', 'MAX', 'TCF7L2', 'HDAC4', 'ME1', 'PAK2', 'KMT2C', 'PRDM1', 'COPS2', 'ITGA4', 'ARID4A', 'ARID4B', 'DAXX', 'CHD4', 'KMT2D', 'GRB2', 'CHEK2', 'CDC25A', 'PAX3', 'TAF1', 'CTCF', 'NSD1', 'TP53BP1', 'WNT5A', 'HDAC3', 'HDAC5', 'ACD', 'ATM', 'POT1', 'PRKDC', 'ATR', 'TAF15', 'ARRB1', 'NCOR2', 'NCOR1', 'NCOA3', 'CIITA', 'TRIM33', 'KDM6A', 'NBN', 'TGFBR2', 'SIAH1', 'RBL2', 'RXRA', 'ERCC6', 'LEF1', 'RAD51B', 'TBL1XR1', 'TP73', 'EZH2', 'PIAS4', 'PBRM1', 'HOXA9', 'IL12B', 'VHL', 'CD247', 'RBL1', 'SMARCA4', 'DCLRE1C', 'EPS15', 'CCNA2', 'HCFC1', 'TWIST1', 'MLLT1', 'RB1', 'CLOCK', 'XPC', 'HNF1A', 'PXN', 'SUZ12', 'APCS', 'DNMT3A', 'SMARCB1', 'MBD2', 'ORC2', 'ORC3', 'ORC5', 'HIST1H3B', 'HES1', 'PBX1', 'CASP7', 'E2F4', 'TBL1X', 'E2F1', 'TINF2', 'RPA3', 'EPC1', 'GSTP1', 'CUL4B', 'BCL9', 'KAT6A', 'ATF2', 'FKBP5', 'CRKL', 'PIK3CA', 'IRAK1', 'IRAK4', 'DHX9', 'PIK3C2A', 'PIK3C3', 'CDKN1B', 'CSDE1', 'NF2', 'CHUK', 'TACR1', 'RPS6KA3', 'FLNB', 'FLNC', 'FOXC1', 'SMAD4', 'RAP1B', 'SMAD2', 'SMAD3', 'POLB', 'CDC6', 'CYP8B1', 'G3BP2', 'RBM5', 'CTTN', 'ITCH', 'HMGB1', 'BAX', 'BAD', 'RPTOR', 'SELENOS', 'PGR', 'CXCR4', 'FIP1L1', 'RTN4', 'CD40', 'TRIP10', 'PRCC', 'MAD1L1', 'PPP3CA', 'PPP3CB', 'IKBKB', 'ARAF', 'EGF', 'CDKN2A', 'DBI', 'SYNCRIP', 'BCLAF1', 'FABP5', 'NFATC2', 'FUS', 'FUBP1', 'CCAR1', 'VANGL2', 'STAM', 'U2AF1', 'SF3A3', 'COX6C', 'TCF4', 'BUB3', 'NANOG', 'KEAP1', 'EIF4B', 'RALB', 'CNBP', 'SKP2', 'TPM3', 'TRADD', 'FANCC', 'RAF1', 'TGFBR1', 'SND1', 'CASP3', 'ARNT', 'ACOX1', 'IRS2', 'CDK6', 'HIP1', 'FBXW7', 'KIF5B', 'PITX2', 'IQGAP1', 'DVL2', 'MED17', 'YWHAG', 'RAC1', 'ENDOG', 'PSME3', 'CTNNA1', 'SRSF3', 'ABI1', 'NOTCH1', 'ROCK2', 'CAV1', 'MAP3K2', 'MAP3K5', 'PPP6C', 'ERBB2', 'ERBB3', 'WNK1', 'SOS1', 'PTPN11', 'CD3D', 'CD3G', 'HRAS', 'HIF1A', 'SEPT5', 'SMURF1', 'SDHAF2', 'PPM1D', 'CHD1L', 'SRSF2', 'NONO', 'JUP', 'TFRC', 'UPF3B', 'POM121', 'SFPQ', 'GPHN', 'GNAS', 'POLE3', 'PPP2R5E', 'SH2D1B', 'ANAPC11', 'MKNK1', 'ERCC2', 'ANAPC10', 'CD4', 'SH3GL1', 'BCR', 'STAT3', 'CD81', 'RABEP1', 'PRKAA1', 'LRP2', 'MYL12B', 'IL13', 'IL4', 'NMI', 'PPP2R1B', 'BIRC2', 'CYCS', 'MAP2K2', 'MAP2K1', 'STAM2', 'APEX1', 'MCM4', 'POU5F1', 'ALDOB', 'MAPT', 'PICALM', 'FBP1', 'ITSN1', 'EIF1AX', 'LYZ', 'CSNK1E', 'LIG3', 'MYB', 'ATP2B3', 'KRAS', 'PPP2CB', 'TLR4', 'STMN1', 'NFKBIB', 'LRPPRC', 'NFKBIE', 'NCKAP1', 'CHD6', 'SBDS', 'PCBP1', 'VCL', 'PGM2', 'RHOA', 'MPG', 'CDC23', 'CDC20', 'FNBP1', 'EPHA3', 'EPHA2', 'ABL1', 'ABL2', 'FZD4', 'POLD2', 'ARFGEF1', 'BCOR', 'MNAT1', 'CRNKL1', 'MAPK8IP2', 'ADH5', 'ID2', 'CAB39', 'JUND', 'RIPK1', 'P2RX7', 'AQR', 'TRAF1', 'TRAF2', 'ULK1', 'TRAF6', 'GTF2H1', 'CLTCL1', 'ESR1', 'ACTN4', 'EZR', 'G3BP1', 'BRAF', 'GNA11', 'PDPK1', 'ATF1', 'B2M', 'SERPINF2', 'IL6ST', 'THBS1', 'MICB', 'MICA', 'IL12RB1', 'PIK3CB', 'IL12RB2', 'PIK3CG', 'KIR3DL2', 'ICAM2', 'IFITM1', 'CD28', 'TEP1', 'CD22', 'MSN', 'PRF1', 'CXCL11', 'CXCL10', 'FGFR2', 'FGFR1', 'CXCL1', 'INPP5D', 'CXCL9', 'AHR', 'ULBP3', 'ULBP1', 'LAT', 'CD3E', 'KLRC1', 'TNFSF10', 'IL10RA', 'IL10RB', 'CCL5', 'HLA-C', 'HLA-B', 'HLA-A', 'HLA-G', 'GAB1', 'NOS3', 'IFNGR1', 'IFNGR2', 'CD8B', 'LY86', 'KLRC3', 'LEP', 'LILRB3', 'KIR2DS4', 'TPST1', 'KIR2DS1', 'GRAP2', 'TNFRSF9', 'JAK1', 'CCL20', 'KLRC2', 'IGF1', 'PARP4', 'MAF', 'IGFBP3', 'FGF7', 'KIR3DL1', 'KLRG1', 'PTPN6', 'IRF2', 'NCOA4', 'VAV1', 'SDC1', 'VAV3', 'VAV2', 'INS', 'KIR2DL3', 'KIR2DL2', 'KIR2DL1', 'ITGAL', 'KIR2DL4', 'BTK', 'CD74', 'PIK3R3', 'CCR5', 'CCR7', 'TXNIP', 'ATP6AP2', 'PTPN1', 'TNFSF13B', 'STAT6', 'STAT2', 'BTG1', 'FGF2', 'C3', 'HLA-E', 'ZFP36L2', 'PIK3R1', 'PML', 'A2M', 'LY96', 'CD8A', 'IRF7', 'IL2RA', 'IL2RB', 'IL2RG', 'SCP2', 'IRF4', 'IL15', 'C4A', 'IL7', 'IL5', 'IL2', 'CD274', 'IRF9', 'KLRD1', 'STAT1', 'ADGRE5', 'FCGR3A', 'PLCG2', 'PLCG1', 'AHSG', 'FMR1', 'CYBA', 'PGF', 'CEBPA', 'IL12A', 'FAS', 'FYN', 'ZAP70', 'TERT', 'APOL3', 'CD244', 'ITGB2', 'CD48', 'CD44', 'CD47', 'ELF1', 'FGFR1OP', 'PRKCQ', 'NF1', 'KLRK1', 'PTPRC', 'WT1', 'LNPEP', 'MMP2', 'BCL2', 'LIFR', 'LIF', 'GHR', 'IL21', 'EPO', 'IL22', 'IL24', 'IFNW1', 'PRL', 'PIK3CD', 'OSMR', 'IFNA13', 'OSM', 'IFNA10', 'IFNA17', 'IFNA16', 'IFNA14', 'IFNK', 'IFNE', 'LEFTY2', 'IFNA2', 'KITLG', 'IFNAR2', 'BMP4', 'SOCS1', 'GH1', 'SOCS2', 'CSF1', 'CSF2', 'CSF3', 'IL1R2', 'IL1R1', 'IFNL2', 'IFNL3', 'IL20', 'STAT5B', 'PRLR', 'PIK3R5', 'IFNA21', 'JAK3', 'IL5RA', 'IFNA6', 'CNTFR', 'EPOR', 'IL13RA2', 'IL13RA1', 'IFNA5', 'MPL', 'IL17RA', 'IFNAR1', 'CD40LG', 'FST', 'IL1A', 'IFNB1', 'FLT1', 'IL9R', 'STAT4', 'NR2F2', 'FOSL1', 'KDR', 'IL17D', 'NTF3', 'IL17A', 'CTF1', 'IL6R', 'LTA', 'IL3RA', 'IL19', 'IFNA8', 'IL10', 'IFNA1', 'IL21R', 'IFNA7', 'GH2', 'IFNA4', 'STAT5A', 'IL3', 'IL9', 'CSF2RA', 'IL23A', 'BMPR1A', 'NGFR', 'TSLP', 'CXCR2', 'CXCR1', 'KLF4', 'CNTF', 'IFNL1', 'IL18R1', 'IL1RAP', 'LEPR', 'NFIB', 'CSH1', 'CLCF1', 'PTPRB', 'ADIPOQ', 'AOC3', 'PCK1', 'TNXB', 'VEGFD', 'CD36', 'PCSK5', 'APOC3', 'MS4A2', 'PLIN1', 'DCN', 'LBP', 'NTRK2', 'AQP7', 'KLK2', 'KLK3', 'CXCL12', 'EHHADH', 'CCNG2', 'FOXA1', 'ANGPTL4', 'TNFSF11', 'ACVR1C', 'TNFSF14', 'LAMA2', 'MED24', 'ITGA7', 'LPL', 'NOX4', 'EDNRA', 'CRH', 'HRH4', 'COL1A2', 'TSC1', 'NR1H3', 'COL4A4', 'COL4A2', 'PPARA', 'FGF5', 'IL1RN', 'PPARG', 'G6PC', 'VWF', 'FGF21', 'TNFRSF11B', 'FABP4', 'NTRK3', 'MED23', 'HMGCS2', 'ELN', 'RXRG', 'RXRB', 'PLA2G2A', 'COL5A1', 'SAA1', 'EDA', 'SFRP4', 'COL1A1', 'TGFB1', 'PTK2', 'LRP1', 'MGLL', 'MITF', 'RUNX1T1', 'SORBS1', 'AMHR2', 'SVEP1', 'HK2', 'MED12', 'GPC3', 'PDGFB', 'TMPRSS2', 'CYBB', 'EBF1', 'TNN', 'CREB3L1', 'ADH1B', 'ADH1A', 'MMP9', 'COL6A2', 'MMP3', 'WNT11', 'MMP1', 'FHIT', 'ERBB4', 'SFRP1', 'BCL2L1', 'NRAS', 'PIP5K1A', 'PTK2B', 'RAPGEF1', 'DVL1', 'RELN', 'CAPN1', 'WEE1', 'SETDB1', 'BLNK', 'CBLC', 'FGFR4', 'KIT', 'ITGA8', 'ITGA9', 'NGF', 'ITGB4', 'ITGA1', 'ITGA2', 'ITGA3', 'ITGA5', 'ITGA6', 'ITGA10', 'ITGA11', 'BDNF', 'CHIC2', 'NCKIPSD', 'ITGB5', 'BCAR1', 'ETV6', 'ITGAV', 'TEC', 'AOX1', 'SMAD5', 'HGF', 'SOS2', 'FLT4', 'VASP', 'ITGB6', 'ITGA2B', 'PTK6', 'NTF4', 'LAMA5', 'LARP4B', 'APPL1', 'NFRKB', 'NCK1', 'GATA2', 'ITK', 'LRP8', 'MAP4K1', 'CBLB', 'MAP2K4', 'SRF', 'GP6', 'TLN1', 'DVL3', 'ETS1', 'PDGFA', 'RAC3', 'ITGB7', 'ITGB8', 'VTN', 'RASA1', 'ACTN2', 'NCK2', 'ANK3', 'DOCK1', 'WIPF1', 'WRN', 'F2', 'PIK3C2B', 'FBXW11', 'CCND3', 'AKAP9', 'TCF12', 'RASGRP3', 'ACVR1B', 'TFDP2', 'BAZ2B', 'EREG', 'SENP2', 'VEGFC', 'VEGFB', 'ZEB1', 'ING1', 'ZEB2', 'RPS6KA5', 'NOG', 'IL11RA', 'CD19', 'TRERF1', 'SMAD7', 'SMO', 'LTB4R', 'XIAP', 'PIK3AP1', 'FGF8', 'FGF1', 'GP9', 'LAMA1', 'MGA', 'SS18', 'BDKRB1', 'ZNF638', 'ARID5B', 'AFDN', 'SDC2', 'ZMYM2', 'ARHGEF12', 'SGMS1', 'SHC2', 'KLF6', 'CLIP1', 'ETNK1', 'ITGB3', 'MBD4', 'AHCTF1', 'SPRED1', 'ARHGEF6', 'NFE2L2', 'GNG12', 'DAAM1', 'SNAI2', 'PLD1', 'ZC3H11A', 'CYLD', 'APC', 'CNOT4', 'NFATC1', 'FOXP1', 'LAMB1', 'LAMB3', 'LAMB2', 'CYSLTR1', 'CCNE2', 'BUB1', 'MRAS', 'CCDC6', 'EGLN1', 'FZD6', 'BTC', 'RALA', 'SPRY3', 'SPRY2', 'SPRY1', 'RASGRP1', 'SPRY4', 'FLT3', 'NECTIN3', 'FGF18', 'TAOK1', 'PIP5K1C', 'KNG1', 'KL', 'USP8', 'ACVR2A', 'TRIO', 'PRKX', 'ARAP3', 'BID', 'XCR1', 'ZFYVE16', 'MDM4', 'PRKCG', 'PRKCZ', 'UCP1', 'BCL6', 'KAT6B', 'FBXO11', 'EML4', 'INHBE', 'SHC3', 'HRH1', 'SH2D2A', 'SETD2', 'PTPN13', 'SPEN', 'F2R', 'BMPR2', 'ARHGAP5', 'RICTOR', 'PPM1B', 'PPM1A', 'AFF4', 'AFF1', 'CASP9', 'EPHB2', 'PLCB1', 'PLCB2', 'PLCB3', 'PLCB4', 'CUX1', 'LAMC2', 'GNAQ', 'PROK2', 'PALB2', 'EIF4EBP1', 'STRN', 'FGF22', 'FGF20', 'PPP2R5C', 'CD79B', 'CD79A', 'CAPN7', 'CAST', 'ANAPC7', 'ATRX', 'GPR68', 'IL18', 'MAP4K3', 'IDO1', 'IL23R', 'RCHY1', 'WASF1', 'WASF2', 'ALK', 'TAC1', 'ZCCHC8', 'NRG1', 'NRG3', 'NRG2', 'NRG4', 'MALT1', 'SESN2', 'SPOP', 'LPP', 'CASP8', 'FGF23', 'PDK1', 'ZNF292', 'ERAS', 'FBP2', 'RALBP1', 'INPP4A', 'XCL2', 'XCL1', 'GOLGA5', 'SMAD1', 'CSNK1G3', 'FASLG', 'PMS1', 'UBR5', 'SOCS5', 'TLR6', 'KDM5A', 'IL20RA', 'PCM1', 'PDGFC', 'HCST', 'ACVR2B', 'CLASP2', 'CHD9', 'PIK3R6', 'PIK3R4', 'GNG2', 'CDC7', 'CDC25B', 'MAP2K3', 'FGF9', 'FGF6', 'FGF4', 'FGF3', 'F11R', 'BAIAP2', 'GOPC', 'DUSP8', 'JAZF1', 'CCNG1', 'NFATC3', 'SMURF2', 'TICAM1', 'FZD3', 'GP1BA', 'GP1BB', 'FGF19', 'FGF10', 'FGF17', 'FGF16', 'ICOS', 'MACF1', 'PHLPP1', 'CNTRL', 'PIK3C2G', 'BRWD1', 'DAPP1', 'PIAS1', 'RRAS2', 'ACVR1', 'IL17F', 'ROCK1', 'ADAM10', 'PXK', 'TRAF3', 'PDGFD', 'TRAF5', 'RASA2', 'ASXL1', 'CAMK2B', 'HMMR', 'TNFRSF10B', 'TFG', 'ARHGEF2', 'PLA2G1B', 'TGFB2', 'CACNG5', 'WASF3', 'CASP6', 'FAT1', 'TLR8', 'SOX9', 'ORC1', 'PTPRJ', 'CAMK2G', 'CXCL13', 'RASGRP2', 'CDKN1C', 'TNFRSF8', 'CCL22', 'TNFRSF10C', 'MAP4K2', 'LTB', 'MEF2C', 'CXCR6', 'CXCR5', 'SUFU', 'E2F2', 'MAP3K11', 'TNFRSF25', 'STRADA', 'TIRAP', 'MKL1', 'TCF7', 'TCF3', 'CYP27A1', 'PDCD1', 'CARD11', 'PAX7', 'PTPN7', 'CR2', 'SH2D1A', 'CCR2', 'CD82', 'FLT3LG', 'MYLPF', 'ABCC1', 'DDIT4', 'ALOX5', 'CD27', 'MAPKAPK2', 'TGFA', 'RHOH', 'IKZF1', 'DUSP2', 'MAPK8IP3', 'CCL19', 'GLI3', 'TNC', 'CXCL16', 'CCL21', 'RPS6KA2', 'PTTG2', 'LMO2', 'CXCR3', 'E2F5', 'CBFB', 'DFFA', 'PPP2R5A', 'CXCL5', 'SHH', 'FANCD2', 'S1PR3', 'TCL1A', 'DUSP4', 'NDRG1', 'ABCB4', 'ACKR3', 'MAP3K6', 'PARD6A', 'FAM46C', 'EDAR', 'TNFRSF17', 'CCR3', 'CCR6', 'CCR8', 'CCR9', 'PPBP', 'GAL', 'TSHR', 'DUSP10', 'CASP10', 'OGG1', 'CCR4', 'CCR10', 'SERPINB5', 'BMP7', 'CX3CR1', 'SORL1', 'FZD1', 'CNR2', 'TNFRSF13B', 'TNFRSF13C', 'PF4', 'GNA12', 'IL22RA1', 'TRAF4', 'RNF43', 'LIMA1', 'ELK4', 'ELK1', 'LTBP1', 'RNF213', 'ZBTB16', 'TAOK3', 'LMO7', 'PLAG1', 'TNFRSF11A', 'GSC2', 'CHRD', 'WNT6', 'BUB1B', 'ESPL1', 'RUNX1', 'DBF4', 'CCNH', 'CHD8', 'MLLT10', 'HOXC13', 'ANAPC1', 'PSIP1', 'HOXD13', 'POLE2', 'CD70', 'TPM4', 'RBM15', 'BIRC5', 'HMGA1', 'PTTG1', 'NUMA1', 'ERCC3', 'CDC14A', 'NFX1', 'ELL', 'MSI2', 'GTF2H5', 'CASC5', 'XPA', 'CLSPN', 'PLXNB2', 'SESN1', 'POLL', 'TFPT', 'DDB2', 'APAF1', 'TDG', 'PIAS2', 'PIAS3', 'ERCC1', 'ERCC4', 'ZMAT3', 'BBC3', 'ZRSR2', 'GTF2H3', 'GTF2H2', 'GTF2H4', 'RPA4', 'CCNE1', 'SMG6', 'STK11', 'GATA3', 'GTSE1', 'CTBP1', 'COL3A1', 'APOA1', 'APOA2', 'HOXC11', 'TLX3', 'RPS6KA4', 'SMAD6', 'COL2A1', 'CKS1B', 'EGLN2', 'BDKRB2', 'LMO1', 'CDC45', 'SPHK2', 'ERC1', 'MYOD1', 'BNC2', 'BTRC', 'PCK2', 'NFE2L1', 'PWWP2A', 'GATA1', 'CDKN2C', 'GAS7', 'CNOT3', 'ARID1A', 'RECQL4', 'BCL11B', 'MYCN', 'EXO1', 'FOXA2', 'CAMTA1', 'ARID2', 'IGFBP4', 'ZBTB17', 'EPAS1', 'ZNF331', 'FABP1', 'MECOM', 'FANCF', 'TET2', 'CCND2', 'FOXL2', 'DUSP3', 'ARNTL', 'TOM1', 'CREB3L2', 'NOTCH4', 'MYL5', 'MYL2', 'ZNF384', 'OMD', 'CARM1', 'AHNAK', 'TFDP1', 'TBX3', 'CYP7A1', 'ATRN', 'WNT2', 'WNT1', 'WNT4', 'NAB2', 'MAP2K5', 'EXT1', 'RGS3', 'NT5C2', 'CPT1A', 'KMT2A', 'NKX2-1', 'ARHGAP26', 'IREB2', 'FLI1', 'BMP2', 'RASSF1', 'NFKBID', 'JMY', 'ASXL2', 'TFE3', 'TFEB', 'CDC25C', 'PRDM16', 'ETV4', 'EPHA1', 'HMGA2', 'HEY1', 'CSNK1A1L', 'ADH6', 'NKX3-1', 'BCL11A', 'TAL1', 'DAPK3', 'DAPK2', 'ORC6', 'ATF4', 'TRIM27', 'PMS2', 'SMARCE1', 'CDC16', 'PARP3', 'POLE4', 'MUTYH', 'BRIP1', 'FANCG', 'POLD3', 'POLD4', 'TJP2', 'ERCC8', 'APEX2', 'PKMYT1', 'DEPDC1B', 'PIDD1', 'TTK', 'BLM', 'ANAPC5', 'PLA2G6', 'ASPM', 'RBM10', 'FANCA', 'FANCI', 'MLST8', 'SOX2', 'MAPKAPK5', 'TLN2', 'SCG2', 'BRD3', 'LRP5', 'PPP2R5B', 'PAK4', 'LZTR1', 'TCF7L1', 'CRTC1', 'XRCC1', 'RPRM', 'ANAPC2', 'ACAD8', 'PPP2R5D', 'TSC2', 'PARVB', 'BCL7A', 'LASP1', 'TAOK2', 'CIC', 'MLLT4', 'MLL', 'RTEL1', 'ARHGAP35', 'CEP89', 'DCTN1', 'DHX35', 'SSX2IP', 'NIN', 'CEP290', 'CAMK2A', 'MEFV', 'USP6', 'DAPK1', 'VTI1A', 'RPGR', 'MUC20', 'NR4A1', 'VNN1', 'ACOX2', 'ACOX3', 'ORM1', 'CRP', 'SAA4', 'FABP2', 'APOA5', 'ITIH4', 'MBL2', 'SERPINA3', 'C4B', 'C5', 'ORM2', 'FABP7', 'CER1', 'FZD5', 'CX3CL1', 'CYP4A11', 'ADH4', 'HLF', 'ALDH9A1', 'ALDH3B1', 'PLA2G4B', 'DKK1', 'SNAI1', 'MYCL', 'MFNG', 'LSM14A', 'AXIN1', 'CACNG3', 'CBFA2T3', 'PER1', 'PAX5', 'THRAP3', 'BMP6', 'NFAT5', 'KDM5C', 'CACNB1', 'LYL1', 'ZFP36L1', 'ID1', 'IL17C', 'PTPRF', 'CAV3', 'GADD45G', 'CRTC3', 'STIL', 'NEIL3', 'GPSM2', 'MAD2L2', 'RMI2', 'PTGS1', 'SETBP1', 'CTLA4', 'SH2B3', 'WWTR1', 'CDH11', 'CNTNAP1', 'LY75', 'NR4A2', 'PTPRM', 'CTBP2', 'ARFGAP1', 'NLK', 'PPARD', 'ARNT2', 'EI24', 'TBL1Y', 'C2orf44', 'MIF', 'ECSIT', 'ASPSCR1', 'ELOB', 'FANCE', 'LRP3', 'NEIL1', 'DCC', 'HSPG2', 'IBSP', 'LAMB4', 'LAMA3', 'THBS3', 'COL4A6', 'COL4A1', 'LAMC3', 'LAMC1', 'COL11A1', 'CHAD', 'THBS2', 'PARVA', 'PARVG', 'COMP', 'COL5A2', 'COL5A3', 'NTN4', 'COL11A2', 'AGRN', 'LAMA4', 'TNR', 'PTCH1', 'SELP', 'GRIN2A', 'COL6A1', 'COL6A3', 'PTPRK', 'THBS4', 'COL6A6', 'ROS1', 'FEV', 'MMP7', 'CAPN2', 'PROM1', 'EIF4G3', 'ACSL6', 'ACSL5', 'ALDOC', 'SAAL1', 'ARFGAP3', 'ACO1', 'CDC14B', 'EPHX2', 'PLA2G4A', 'GALM', 'FADS2', 'SLC27A2', 'ADH7', 'KTN1', 'LDHAL6B', 'LDHAL6A', 'ELF3', 'LIAS', 'PLA2G12A', 'MYL7', 'CACNA2D3', 'CACNA2D2', 'CACNA2D1', 'CACNA2D4', 'PAK5', 'PAK6', 'PAK3', 'MYL10', 'DAG1', 'SDC4', 'FABP3', 'PTX3', 'FAT4', 'TNFSF15', 'PDPN', 'REG3A', 'ETV1', 'ETV5', 'IRF6', 'SDC3', 'PF4V1', 'SACS', 'NECTIN1', 'VANGL1', 'NLRC4', 'TNFRSF12A', 'CAV2', 'LTBR', 'PAX8', 'FSTL3', 'NECTIN2', 'DUSP6', 'LRP10', 'ANAPC4', 'AOAH', 'CD72', 'TNFSF4', 'SEPT6', 'RASSF5', 'ELF4', 'PLTP', 'FZD2', 'MLLT11', 'TNFAIP6', 'TGFB3', 'CCL7', 'RALGDS', 'PLEKHO2', 'ARHGAP29', 'B4GALT1', 'FZD8', 'EXT2', 'CANT1', 'DAAM2', 'LHFP', 'INHBC', 'ABCB11', 'CACNA1I', 'CACNA1S', 'FABP6', 'KLKB1', 'PLA2G12B', 'PTPN5', 'APC2', 'ADGRB1', 'LRP12', 'AMH', 'NCR2', 'MSR1', 'DUSP7', 'RAP1GDS1', 'FRAT2', 'TNKS1BP1', 'MAP3K20', 'FRG1', 'FADD', 'FARP2', 'SH3BP2', 'AXIN2', 'RANBP17', 'MAP3K4', 'SEPT9', 'TOLLIP', 'PHF6', 'MCM8', 'BCL10', 'AMER1', 'SDHD', 'CCL3', 'CCL18', 'PLA2G7', 'CCL11', 'TNFRSF10D', 'KIR2DS5', 'KIR2DS3', 'MTCP1', 'WEE2', 'AZU1', 'NFATC4', 'AMOT', 'TPO', 'SV2C', 'LEFTY1', 'ADCY1', 'CXCL6', 'ADORA3', 'TNFSF18', 'CCL28', 'CCL23', 'CCL25', 'CCL27', 'CHST4', 'CCL13', 'CCL16', 'PHOX2B', 'TRA', 'MYLK3', 'NCR3', 'KALRN', 'PPFIBP1', 'BMPR1B', 'NLRP3', 'FAM123B', 'PLA2G5', 'WNT5B', 'HOXA11', 'FGF12', 'PLA2G2D', 'KCNJ5', 'ID4', 'DKK2', 'NDST1', 'PRRX1', 'CHN1', 'ID3', 'INHBB', 'BMP5', 'ANAPC13', 'CDC26', 'CCNB3', 'CHST2', 'CHST1', 'AGER', 'ZFHX3', 'EGLN3', 'WNT3A', 'FGF13', 'RASGRF2', 'TLX1', 'CCL1', 'IL25', 'ASH1L', 'MUC1', 'SCD5', 'GP5', 'RPS6KA6', 'PLA2G10', 'SMAD9', 'CACNB2', 'CACNB4', 'TNFSF8', 'ALOX15', 'WNT8B', 'CACNG2', 'MKNK2', 'SPRED2', 'WIF1', 'MN1', 'FOXC2', 'MAGI2', 'HOOK3', 'MYLK2', 'STEAP3', 'ROBO2', 'IL17RB', 'CTNNA3', 'MAP3K13', 'HOXD11', 'MAP2K6', 'BMP8A', 'BMP8B', 'HHIP', 'GDF7', 'MNX1', 'SOX17', 'SESN3', 'FZD7', 'LRP6', 'WNT3', 'WNT10B', 'GDF6', 'GDF5', 'WNT8A', 'WNT2B', 'CTNNBIP1', 'TNFSF12', 'PLAA', 'PRICKLE1', 'KDSR', 'FRAT1', 'NKD1', 'DIAPH1', 'TNFRSF4', 'POU2AF1', 'CCL17', 'TNFRSF14', 'TNFRSF10A', 'SIGIRR', 'TLR10', 'TICAM2', 'CPT1B', 'TLR5', 'CDO1', 'ZNRF3', 'CACNA1G', 'AFF3', 'FZD10', 'HOXA13', 'ZNF521', 'CDX2', 'SCAI', 'SS18L1', 'NCR1', 'NODAL', 'TNFSF9', 'IL18RAP', 'TNFRSF18', 'FGF11', 'EDA2R', 'FZD9', 'FGF14', 'ARID1B', 'ZFYVE9', 'ERBB2IP', 'STS', 'STARD13', 'IRAK2', 'TNFRSF19', 'SOCS4', 'LDHC', 'ULK3', 'CACNG1', 'PTPRR', 'CHCHD7', 'CRLF2', 'P2RY8', 'PDE4DIP', 'SV2B', 'MLF1', 'RSPO3', 'NOX1', 'CXCL14', 'CCL8', 'CACNG4', 'CACNA1D', 'CXXC4', 'SRGAP1', 'SRGAP3', 'CTNNA2', 'RASGRF1', 'RELT', 'AREG', 'DFFB', 'CLCC1', 'CHP2', 'DUSP16', 'HERPUD1', 'TRIP11', 'WHSC1L1', 'IFNLR1', 'IL20RB', 'IL22RA2', 'WNT10A', 'WNT7A', 'WNT7B', 'ADPGK', 'WNT9B', 'WNT9A', 'MMP25', 'WNT16', 'OLIG2', 'TCL6', 'CPT2', 'SLC27A1', 'TRAF7', 'CCNB1IP1', 'F8', 'MAML2', 'CPT1C', 'FAT2', 'LRP1B', 'G6PC2', 'ACADL', 'PTPRU', 'FER', 'PAFAH1B2', 'MAPK8IP1', 'TERC', 'CCL4', 'NOD1', 'SLC45A3', 'DUSP9', 'WHSC1', 'PLXNA1', 'MAP3K12', 'PDCD1LG2', 'IL26', 'CYP4F11', 'CYP4A22', 'PTCH2', 'TAL2', 'TP53AIP1', 'HES2', 'MLLT6', 'NFAM1', 'PORCN', 'CACNB3', 'LAMTOR3', 'CARD18', 'SPRR3', 'IL36A', 'RAET1E', 'SHISA5', 'ZNF750', 'SLC27A5', 'SHC4', 'PCDH18', 'ZNF814', 'LRP4', 'FLCN', 'SPECC1', 'ACTN3', 'TNFRSF6B', 'ADH1C', 'TET1', 'SSX2', 'CACNA1F', 'PRICKLE2', 'ULBP2', 'SFRP5', 'STK36', 'CACNA1H', 'RASGRP4', 'IL17B', 'SMUG1', 'CACNG7', 'CACNG8', 'CACNG6', 'LRP11', 'DKK4', 'KIAA1549', 'NEIL2', 'UCN', 'NUTM1', 'LRIG3', 'KIR2DL5A', 'TTL', 'SLC27A6', 'SSX4', 'CCL26', 'FCRL4', 'PLA2G2F', 'SSX1', 'CCL14', 'CCL24', 'AFAP1L2', 'NECTIN4', 'PLA2G2E', 'SV2A', 'SLC34A2', 'ENDOD1', 'DUSP14', 'CCL3L1', 'CCL4L1', 'FAM131B', 'CAB39L', 'SOCS7', 'RSPO2', 'PLA2G2C', 'NKD2', 'RAET1G', 'EXOG', 'CCL3L3', 'PLA2G4E', 'IL27', 'APOL2', 'PLA2G4C', 'IRGM', 'PLA2G3', 'RAET1L', 'KIAA1598', 'JMJD7-PLA2G4B', 'MALAT1', 'REG3G', 'NUTM2A', 'TRB', 'IGL', 'HES3', 'CCL15', 'CCL4L2', 'SCUBE1'))"
      ]
     },
     "execution_count": 4,
     "metadata": {},
     "output_type": "execute_result"
    }
   ],
   "source": [
    "# The only required parameter for this function is the network file path\n",
    "\n",
    "network_filepath = './Example_Data/Network_Files/CancerSubnetwork.txt'\n",
    "network = dit.load_network_file(network_filepath)\n",
    "network.nodes"
   ]
  },
  {
   "cell_type": "markdown",
   "metadata": {},
   "source": [
    "# Construct regularization graph for use in network-regularized NMF\n",
    "\n",
    "In this step, we will construct the graph used in the network-regularized non-negative matrix factorization (netNMF) step of pyNBS. This network is a K-nearest neighbor (KNN) network constructed from the network influence matrix (Vandin et al 2011*) of the molecular network being used to stratify tumor samples. The graph laplacian of this KNN network (knnGlap) is used as the regularizer in the following netNMF steps. This step uses the ```network_inf_KNN_glap``` function in the pyNBS_core module. \n",
    "\n",
    "For additional notes on the graph laplacian construction method, please visit our GitHub wiki for this function:\n",
    "https://github.com/huangger/pyNBS/wiki/pyNBS.pyNBS_core.network_inf_KNN_glap\n",
    "\n",
    "---\n",
    "**Note: ** This step is technically optional. No regularization network laplacian has to be constructed if the user would like to run the NMF step without a network regularizer. The user simply has to pass ```None``` into the optional parameter ```regNet_glap``` or remove the optional parameter in the ```pyNBS_single()``` function call below. This will cause pyNBS to run a non-network regularized NMF procedure. However, given the implementation of the multiplicative update steps, the results may not be exactly the same as some other NMF implementations (e.g. from scikit-learn)."
   ]
  },
  {
   "cell_type": "code",
   "execution_count": 5,
   "metadata": {
    "scrolled": true
   },
   "outputs": [
    {
     "name": "stdout",
     "output_type": "stream",
     "text": [
      "Graph influence matrix calculated: 0.8518772125244141 seconds\n",
      "Graph laplacian of KNN network from influence matrix calculated: 3.08023738861084 seconds\n"
     ]
    }
   ],
   "source": [
    "# Constructing knnGlap\n",
    "knnGlap = core.network_inf_KNN_glap(network)\n",
    "\n",
    "##########################################################################################################\n",
    "# The resulting matrix can be very large, so we choose not to save the intermediate result here\n",
    "# To run this function and save the KNN graph laplaican to the output directory 'outdir' given above:\n",
    "# Uncomment and run the following line instead:\n",
    "# knnGlap = core.network_inf_KNN_glap(network, **save_args)\n",
    "##########################################################################################################"
   ]
  },
  {
   "cell_type": "code",
   "execution_count": 6,
   "metadata": {},
   "outputs": [
    {
     "data": {
      "text/html": [
       "<div>\n",
       "<style scoped>\n",
       "    .dataframe tbody tr th:only-of-type {\n",
       "        vertical-align: middle;\n",
       "    }\n",
       "\n",
       "    .dataframe tbody tr th {\n",
       "        vertical-align: top;\n",
       "    }\n",
       "\n",
       "    .dataframe thead th {\n",
       "        text-align: right;\n",
       "    }\n",
       "</style>\n",
       "<table border=\"1\" class=\"dataframe\">\n",
       "  <thead>\n",
       "    <tr style=\"text-align: right;\">\n",
       "      <th></th>\n",
       "      <th>HSPA2</th>\n",
       "      <th>PCSK6</th>\n",
       "      <th>EIF4E1B</th>\n",
       "      <th>CD24</th>\n",
       "      <th>PGAM4</th>\n",
       "      <th>PGK2</th>\n",
       "      <th>CARS</th>\n",
       "      <th>GK2</th>\n",
       "      <th>ACSS1</th>\n",
       "      <th>MLH3</th>\n",
       "      <th>...</th>\n",
       "      <th>WNT8B</th>\n",
       "      <th>MAP2K6</th>\n",
       "      <th>FZD7</th>\n",
       "      <th>WNT10B</th>\n",
       "      <th>GDF5</th>\n",
       "      <th>WNT2B</th>\n",
       "      <th>CDX2</th>\n",
       "      <th>IRAK2</th>\n",
       "      <th>WNT7B</th>\n",
       "      <th>WNT16</th>\n",
       "    </tr>\n",
       "  </thead>\n",
       "  <tbody>\n",
       "    <tr>\n",
       "      <th>HSPA2</th>\n",
       "      <td>10</td>\n",
       "      <td>-1</td>\n",
       "      <td>-1</td>\n",
       "      <td>-1</td>\n",
       "      <td>-1</td>\n",
       "      <td>-1</td>\n",
       "      <td>-1</td>\n",
       "      <td>-1</td>\n",
       "      <td>-1</td>\n",
       "      <td>-1</td>\n",
       "      <td>...</td>\n",
       "      <td>0</td>\n",
       "      <td>0</td>\n",
       "      <td>0</td>\n",
       "      <td>0</td>\n",
       "      <td>0</td>\n",
       "      <td>0</td>\n",
       "      <td>0</td>\n",
       "      <td>0</td>\n",
       "      <td>0</td>\n",
       "      <td>0</td>\n",
       "    </tr>\n",
       "    <tr>\n",
       "      <th>PCSK6</th>\n",
       "      <td>-1</td>\n",
       "      <td>24</td>\n",
       "      <td>0</td>\n",
       "      <td>0</td>\n",
       "      <td>0</td>\n",
       "      <td>0</td>\n",
       "      <td>0</td>\n",
       "      <td>0</td>\n",
       "      <td>0</td>\n",
       "      <td>0</td>\n",
       "      <td>...</td>\n",
       "      <td>0</td>\n",
       "      <td>0</td>\n",
       "      <td>0</td>\n",
       "      <td>0</td>\n",
       "      <td>0</td>\n",
       "      <td>0</td>\n",
       "      <td>0</td>\n",
       "      <td>0</td>\n",
       "      <td>0</td>\n",
       "      <td>0</td>\n",
       "    </tr>\n",
       "    <tr>\n",
       "      <th>EIF4E1B</th>\n",
       "      <td>-1</td>\n",
       "      <td>0</td>\n",
       "      <td>38</td>\n",
       "      <td>0</td>\n",
       "      <td>0</td>\n",
       "      <td>0</td>\n",
       "      <td>0</td>\n",
       "      <td>0</td>\n",
       "      <td>0</td>\n",
       "      <td>0</td>\n",
       "      <td>...</td>\n",
       "      <td>0</td>\n",
       "      <td>0</td>\n",
       "      <td>0</td>\n",
       "      <td>0</td>\n",
       "      <td>0</td>\n",
       "      <td>0</td>\n",
       "      <td>0</td>\n",
       "      <td>0</td>\n",
       "      <td>0</td>\n",
       "      <td>0</td>\n",
       "    </tr>\n",
       "    <tr>\n",
       "      <th>CD24</th>\n",
       "      <td>-1</td>\n",
       "      <td>0</td>\n",
       "      <td>0</td>\n",
       "      <td>30</td>\n",
       "      <td>0</td>\n",
       "      <td>0</td>\n",
       "      <td>0</td>\n",
       "      <td>0</td>\n",
       "      <td>0</td>\n",
       "      <td>0</td>\n",
       "      <td>...</td>\n",
       "      <td>0</td>\n",
       "      <td>0</td>\n",
       "      <td>0</td>\n",
       "      <td>0</td>\n",
       "      <td>0</td>\n",
       "      <td>0</td>\n",
       "      <td>0</td>\n",
       "      <td>0</td>\n",
       "      <td>0</td>\n",
       "      <td>0</td>\n",
       "    </tr>\n",
       "    <tr>\n",
       "      <th>PGAM4</th>\n",
       "      <td>-1</td>\n",
       "      <td>0</td>\n",
       "      <td>0</td>\n",
       "      <td>0</td>\n",
       "      <td>48</td>\n",
       "      <td>-1</td>\n",
       "      <td>0</td>\n",
       "      <td>0</td>\n",
       "      <td>0</td>\n",
       "      <td>0</td>\n",
       "      <td>...</td>\n",
       "      <td>0</td>\n",
       "      <td>0</td>\n",
       "      <td>0</td>\n",
       "      <td>0</td>\n",
       "      <td>0</td>\n",
       "      <td>0</td>\n",
       "      <td>0</td>\n",
       "      <td>0</td>\n",
       "      <td>0</td>\n",
       "      <td>0</td>\n",
       "    </tr>\n",
       "    <tr>\n",
       "      <th>...</th>\n",
       "      <td>...</td>\n",
       "      <td>...</td>\n",
       "      <td>...</td>\n",
       "      <td>...</td>\n",
       "      <td>...</td>\n",
       "      <td>...</td>\n",
       "      <td>...</td>\n",
       "      <td>...</td>\n",
       "      <td>...</td>\n",
       "      <td>...</td>\n",
       "      <td>...</td>\n",
       "      <td>...</td>\n",
       "      <td>...</td>\n",
       "      <td>...</td>\n",
       "      <td>...</td>\n",
       "      <td>...</td>\n",
       "      <td>...</td>\n",
       "      <td>...</td>\n",
       "      <td>...</td>\n",
       "      <td>...</td>\n",
       "      <td>...</td>\n",
       "    </tr>\n",
       "    <tr>\n",
       "      <th>WNT2B</th>\n",
       "      <td>0</td>\n",
       "      <td>0</td>\n",
       "      <td>0</td>\n",
       "      <td>0</td>\n",
       "      <td>0</td>\n",
       "      <td>0</td>\n",
       "      <td>0</td>\n",
       "      <td>0</td>\n",
       "      <td>0</td>\n",
       "      <td>0</td>\n",
       "      <td>...</td>\n",
       "      <td>0</td>\n",
       "      <td>0</td>\n",
       "      <td>0</td>\n",
       "      <td>0</td>\n",
       "      <td>0</td>\n",
       "      <td>10</td>\n",
       "      <td>0</td>\n",
       "      <td>0</td>\n",
       "      <td>0</td>\n",
       "      <td>0</td>\n",
       "    </tr>\n",
       "    <tr>\n",
       "      <th>CDX2</th>\n",
       "      <td>0</td>\n",
       "      <td>0</td>\n",
       "      <td>0</td>\n",
       "      <td>0</td>\n",
       "      <td>0</td>\n",
       "      <td>0</td>\n",
       "      <td>0</td>\n",
       "      <td>0</td>\n",
       "      <td>0</td>\n",
       "      <td>0</td>\n",
       "      <td>...</td>\n",
       "      <td>0</td>\n",
       "      <td>0</td>\n",
       "      <td>0</td>\n",
       "      <td>0</td>\n",
       "      <td>0</td>\n",
       "      <td>0</td>\n",
       "      <td>10</td>\n",
       "      <td>0</td>\n",
       "      <td>0</td>\n",
       "      <td>0</td>\n",
       "    </tr>\n",
       "    <tr>\n",
       "      <th>IRAK2</th>\n",
       "      <td>0</td>\n",
       "      <td>0</td>\n",
       "      <td>0</td>\n",
       "      <td>0</td>\n",
       "      <td>0</td>\n",
       "      <td>0</td>\n",
       "      <td>0</td>\n",
       "      <td>0</td>\n",
       "      <td>0</td>\n",
       "      <td>0</td>\n",
       "      <td>...</td>\n",
       "      <td>0</td>\n",
       "      <td>0</td>\n",
       "      <td>0</td>\n",
       "      <td>0</td>\n",
       "      <td>0</td>\n",
       "      <td>0</td>\n",
       "      <td>0</td>\n",
       "      <td>10</td>\n",
       "      <td>0</td>\n",
       "      <td>0</td>\n",
       "    </tr>\n",
       "    <tr>\n",
       "      <th>WNT7B</th>\n",
       "      <td>0</td>\n",
       "      <td>0</td>\n",
       "      <td>0</td>\n",
       "      <td>0</td>\n",
       "      <td>0</td>\n",
       "      <td>0</td>\n",
       "      <td>0</td>\n",
       "      <td>0</td>\n",
       "      <td>0</td>\n",
       "      <td>0</td>\n",
       "      <td>...</td>\n",
       "      <td>0</td>\n",
       "      <td>0</td>\n",
       "      <td>0</td>\n",
       "      <td>0</td>\n",
       "      <td>0</td>\n",
       "      <td>0</td>\n",
       "      <td>0</td>\n",
       "      <td>0</td>\n",
       "      <td>10</td>\n",
       "      <td>0</td>\n",
       "    </tr>\n",
       "    <tr>\n",
       "      <th>WNT16</th>\n",
       "      <td>0</td>\n",
       "      <td>0</td>\n",
       "      <td>0</td>\n",
       "      <td>0</td>\n",
       "      <td>0</td>\n",
       "      <td>0</td>\n",
       "      <td>0</td>\n",
       "      <td>0</td>\n",
       "      <td>0</td>\n",
       "      <td>0</td>\n",
       "      <td>...</td>\n",
       "      <td>0</td>\n",
       "      <td>0</td>\n",
       "      <td>0</td>\n",
       "      <td>0</td>\n",
       "      <td>0</td>\n",
       "      <td>0</td>\n",
       "      <td>0</td>\n",
       "      <td>0</td>\n",
       "      <td>0</td>\n",
       "      <td>10</td>\n",
       "    </tr>\n",
       "  </tbody>\n",
       "</table>\n",
       "<p>2291 rows × 2291 columns</p>\n",
       "</div>"
      ],
      "text/plain": [
       "         HSPA2  PCSK6  EIF4E1B  CD24  PGAM4  PGK2  CARS  GK2  ACSS1  MLH3  \\\n",
       "HSPA2       10     -1       -1    -1     -1    -1    -1   -1     -1    -1   \n",
       "PCSK6       -1     24        0     0      0     0     0    0      0     0   \n",
       "EIF4E1B     -1      0       38     0      0     0     0    0      0     0   \n",
       "CD24        -1      0        0    30      0     0     0    0      0     0   \n",
       "PGAM4       -1      0        0     0     48    -1     0    0      0     0   \n",
       "...        ...    ...      ...   ...    ...   ...   ...  ...    ...   ...   \n",
       "WNT2B        0      0        0     0      0     0     0    0      0     0   \n",
       "CDX2         0      0        0     0      0     0     0    0      0     0   \n",
       "IRAK2        0      0        0     0      0     0     0    0      0     0   \n",
       "WNT7B        0      0        0     0      0     0     0    0      0     0   \n",
       "WNT16        0      0        0     0      0     0     0    0      0     0   \n",
       "\n",
       "         ...  WNT8B  MAP2K6  FZD7  WNT10B  GDF5  WNT2B  CDX2  IRAK2  WNT7B  \\\n",
       "HSPA2    ...      0       0     0       0     0      0     0      0      0   \n",
       "PCSK6    ...      0       0     0       0     0      0     0      0      0   \n",
       "EIF4E1B  ...      0       0     0       0     0      0     0      0      0   \n",
       "CD24     ...      0       0     0       0     0      0     0      0      0   \n",
       "PGAM4    ...      0       0     0       0     0      0     0      0      0   \n",
       "...      ...    ...     ...   ...     ...   ...    ...   ...    ...    ...   \n",
       "WNT2B    ...      0       0     0       0     0     10     0      0      0   \n",
       "CDX2     ...      0       0     0       0     0      0    10      0      0   \n",
       "IRAK2    ...      0       0     0       0     0      0     0     10      0   \n",
       "WNT7B    ...      0       0     0       0     0      0     0      0     10   \n",
       "WNT16    ...      0       0     0       0     0      0     0      0      0   \n",
       "\n",
       "         WNT16  \n",
       "HSPA2        0  \n",
       "PCSK6        0  \n",
       "EIF4E1B      0  \n",
       "CD24         0  \n",
       "PGAM4        0  \n",
       "...        ...  \n",
       "WNT2B        0  \n",
       "CDX2         0  \n",
       "IRAK2        0  \n",
       "WNT7B        0  \n",
       "WNT16       10  \n",
       "\n",
       "[2291 rows x 2291 columns]"
      ]
     },
     "execution_count": 6,
     "metadata": {},
     "output_type": "execute_result"
    }
   ],
   "source": [
    "knnGlap"
   ]
  },
  {
   "cell_type": "markdown",
   "metadata": {},
   "source": [
    "# Construct network propagation kernel matrix\n",
    "Due to the multiple subsampling and propagation steps used in pyNBS, we have found that the algorithm can be significantly sped up for large numbers of subsampling and propagation iterations if a gene-by-gene matrix describing the influence of each gene on every other gene in the network by the random-walk propagation operation is pre-computed. We refer to this matrix as the \"network propagation kernel\". Here we compute this propagation kernel by propagating the all genes in the molecular network independently of one another. The propagation profile of each tumor is then simply the column sum vector of the resulting network propagation kernel selected for only the rows of genes marked as mutated in each tumor, rather than having to perform the full network propagation step again after each subsampling of the data. \n",
    "\n",
    "For additional notes on the propagation methods used, please visit our GitHub wiki for this function:\n",
    "https://github.com/huangger/pyNBS/wiki/pyNBS.network_propagation.network_propagation\n"
   ]
  },
  {
   "cell_type": "markdown",
   "metadata": {},
   "source": [
    "### Calibrating the network propagation coefficient\n",
    "The current network propagation coefficient ($\\alpha$) is currently set to 0.7 and must range between 0 and 1. This parameter can be tuned and changing it may have a result on the final propagation results. Previous results from [Hofree et al 2013](https://www.nature.com/articles/nmeth.2651) suggest that values between 0.5 and 0.8 produce relatively robust results, but we suspect that the optimal value may be dependent on certain network properties such as edge density."
   ]
  },
  {
   "cell_type": "code",
   "execution_count": 7,
   "metadata": {},
   "outputs": [],
   "source": [
    "# Set or change network propagation coefficient if desired\n",
    "alpha = 0.7"
   ]
  },
  {
   "cell_type": "code",
   "execution_count": 8,
   "metadata": {},
   "outputs": [],
   "source": [
    "# Construct identity matrix of network\n",
    "network_nodes = network.nodes()\n",
    "network_I = pd.DataFrame(np.identity(len(network_nodes)), index=network_nodes, columns=network_nodes)"
   ]
  },
  {
   "cell_type": "code",
   "execution_count": 9,
   "metadata": {
    "scrolled": true
   },
   "outputs": [
    {
     "name": "stdout",
     "output_type": "stream",
     "text": [
      "Performing network propagation with alpha: 0.7\n",
      "Network Propagation Complete: 2.2716429233551025 seconds\n"
     ]
    }
   ],
   "source": [
    "# Construct network propagation kernel\n",
    "kernel = prop.network_propagation(network, network_I, alpha=alpha, symmetric_norm=False)\n",
    "\n",
    "##########################################################################################################\n",
    "# The resulting matrix can be very large, so we choose not to save the intermediate result here\n",
    "# To run this function and save the propagation kernel to the output directory 'outdir' given above,\n",
    "# Uncomment and run the following two lines instead of the above line:\n",
    "# save_args['iteration_label']='kernel'\n",
    "# kernel = prop.network_propagation(network, network_I, alpha=alpha, symmetric_norm=True, **save_args)\n",
    "##########################################################################################################"
   ]
  },
  {
   "cell_type": "code",
   "execution_count": 10,
   "metadata": {},
   "outputs": [
    {
     "data": {
      "text/html": [
       "<div>\n",
       "<style scoped>\n",
       "    .dataframe tbody tr th:only-of-type {\n",
       "        vertical-align: middle;\n",
       "    }\n",
       "\n",
       "    .dataframe tbody tr th {\n",
       "        vertical-align: top;\n",
       "    }\n",
       "\n",
       "    .dataframe thead th {\n",
       "        text-align: right;\n",
       "    }\n",
       "</style>\n",
       "<table border=\"1\" class=\"dataframe\">\n",
       "  <thead>\n",
       "    <tr style=\"text-align: right;\">\n",
       "      <th></th>\n",
       "      <th>HSPA2</th>\n",
       "      <th>RPN1</th>\n",
       "      <th>GK2</th>\n",
       "      <th>HSPA6</th>\n",
       "      <th>PPP3R1</th>\n",
       "      <th>DLG1</th>\n",
       "      <th>YWHAH</th>\n",
       "      <th>HIST1H4I</th>\n",
       "      <th>HSPA8</th>\n",
       "      <th>PCSK6</th>\n",
       "      <th>...</th>\n",
       "      <th>JMJD7-PLA2G4B</th>\n",
       "      <th>MALAT1</th>\n",
       "      <th>REG3G</th>\n",
       "      <th>NUTM2A</th>\n",
       "      <th>TRB</th>\n",
       "      <th>IGL</th>\n",
       "      <th>HES3</th>\n",
       "      <th>CCL15</th>\n",
       "      <th>CCL4L2</th>\n",
       "      <th>SCUBE1</th>\n",
       "    </tr>\n",
       "  </thead>\n",
       "  <tbody>\n",
       "    <tr>\n",
       "      <th>HSPA2</th>\n",
       "      <td>0.301161</td>\n",
       "      <td>0.000956</td>\n",
       "      <td>0.000756</td>\n",
       "      <td>0.001607</td>\n",
       "      <td>0.000843</td>\n",
       "      <td>0.000995</td>\n",
       "      <td>0.001226</td>\n",
       "      <td>0.001015</td>\n",
       "      <td>0.001913</td>\n",
       "      <td>0.000658</td>\n",
       "      <td>...</td>\n",
       "      <td>0.000010</td>\n",
       "      <td>0.000001</td>\n",
       "      <td>8.587660e-07</td>\n",
       "      <td>1.228380e-06</td>\n",
       "      <td>9.786070e-07</td>\n",
       "      <td>8.628454e-07</td>\n",
       "      <td>0.000002</td>\n",
       "      <td>1.167224e-06</td>\n",
       "      <td>1.425421e-06</td>\n",
       "      <td>0.000004</td>\n",
       "    </tr>\n",
       "    <tr>\n",
       "      <th>RPN1</th>\n",
       "      <td>0.002033</td>\n",
       "      <td>0.300840</td>\n",
       "      <td>0.000080</td>\n",
       "      <td>0.002078</td>\n",
       "      <td>0.000182</td>\n",
       "      <td>0.000354</td>\n",
       "      <td>0.001989</td>\n",
       "      <td>0.000374</td>\n",
       "      <td>0.002458</td>\n",
       "      <td>0.000031</td>\n",
       "      <td>...</td>\n",
       "      <td>0.000031</td>\n",
       "      <td>0.000001</td>\n",
       "      <td>8.347618e-07</td>\n",
       "      <td>1.506721e-06</td>\n",
       "      <td>1.171929e-06</td>\n",
       "      <td>1.253445e-06</td>\n",
       "      <td>0.000002</td>\n",
       "      <td>1.103068e-06</td>\n",
       "      <td>1.402252e-06</td>\n",
       "      <td>0.000002</td>\n",
       "    </tr>\n",
       "    <tr>\n",
       "      <th>GK2</th>\n",
       "      <td>0.004539</td>\n",
       "      <td>0.000225</td>\n",
       "      <td>0.301491</td>\n",
       "      <td>0.004585</td>\n",
       "      <td>0.000243</td>\n",
       "      <td>0.000275</td>\n",
       "      <td>0.000380</td>\n",
       "      <td>0.000287</td>\n",
       "      <td>0.004798</td>\n",
       "      <td>0.000071</td>\n",
       "      <td>...</td>\n",
       "      <td>0.000014</td>\n",
       "      <td>0.000001</td>\n",
       "      <td>1.854933e-06</td>\n",
       "      <td>1.054814e-06</td>\n",
       "      <td>1.049891e-06</td>\n",
       "      <td>1.097301e-06</td>\n",
       "      <td>0.000004</td>\n",
       "      <td>2.528822e-06</td>\n",
       "      <td>2.167794e-06</td>\n",
       "      <td>0.000002</td>\n",
       "    </tr>\n",
       "    <tr>\n",
       "      <th>HSPA6</th>\n",
       "      <td>0.001356</td>\n",
       "      <td>0.000825</td>\n",
       "      <td>0.000645</td>\n",
       "      <td>0.301138</td>\n",
       "      <td>0.000712</td>\n",
       "      <td>0.000862</td>\n",
       "      <td>0.001064</td>\n",
       "      <td>0.000894</td>\n",
       "      <td>0.001676</td>\n",
       "      <td>0.000029</td>\n",
       "      <td>...</td>\n",
       "      <td>0.000013</td>\n",
       "      <td>0.000004</td>\n",
       "      <td>1.249675e-06</td>\n",
       "      <td>1.129278e-06</td>\n",
       "      <td>1.257611e-06</td>\n",
       "      <td>7.627595e-07</td>\n",
       "      <td>0.000002</td>\n",
       "      <td>3.436474e-06</td>\n",
       "      <td>3.418481e-06</td>\n",
       "      <td>0.000003</td>\n",
       "    </tr>\n",
       "    <tr>\n",
       "      <th>PPP3R1</th>\n",
       "      <td>0.001901</td>\n",
       "      <td>0.000193</td>\n",
       "      <td>0.000091</td>\n",
       "      <td>0.001902</td>\n",
       "      <td>0.301018</td>\n",
       "      <td>0.000488</td>\n",
       "      <td>0.001999</td>\n",
       "      <td>0.000301</td>\n",
       "      <td>0.002241</td>\n",
       "      <td>0.000043</td>\n",
       "      <td>...</td>\n",
       "      <td>0.000012</td>\n",
       "      <td>0.000001</td>\n",
       "      <td>1.101603e-06</td>\n",
       "      <td>1.538312e-06</td>\n",
       "      <td>1.154950e-06</td>\n",
       "      <td>7.076435e-07</td>\n",
       "      <td>0.000002</td>\n",
       "      <td>1.579535e-06</td>\n",
       "      <td>1.698535e-06</td>\n",
       "      <td>0.000002</td>\n",
       "    </tr>\n",
       "    <tr>\n",
       "      <th>...</th>\n",
       "      <td>...</td>\n",
       "      <td>...</td>\n",
       "      <td>...</td>\n",
       "      <td>...</td>\n",
       "      <td>...</td>\n",
       "      <td>...</td>\n",
       "      <td>...</td>\n",
       "      <td>...</td>\n",
       "      <td>...</td>\n",
       "      <td>...</td>\n",
       "      <td>...</td>\n",
       "      <td>...</td>\n",
       "      <td>...</td>\n",
       "      <td>...</td>\n",
       "      <td>...</td>\n",
       "      <td>...</td>\n",
       "      <td>...</td>\n",
       "      <td>...</td>\n",
       "      <td>...</td>\n",
       "      <td>...</td>\n",
       "      <td>...</td>\n",
       "    </tr>\n",
       "    <tr>\n",
       "      <th>IGL</th>\n",
       "      <td>0.000290</td>\n",
       "      <td>0.000198</td>\n",
       "      <td>0.000061</td>\n",
       "      <td>0.000304</td>\n",
       "      <td>0.000105</td>\n",
       "      <td>0.000466</td>\n",
       "      <td>0.000177</td>\n",
       "      <td>0.000092</td>\n",
       "      <td>0.000406</td>\n",
       "      <td>0.000020</td>\n",
       "      <td>...</td>\n",
       "      <td>0.000006</td>\n",
       "      <td>0.000001</td>\n",
       "      <td>6.062103e-07</td>\n",
       "      <td>6.784775e-07</td>\n",
       "      <td>5.928115e-07</td>\n",
       "      <td>3.420842e-01</td>\n",
       "      <td>0.000002</td>\n",
       "      <td>8.321551e-07</td>\n",
       "      <td>8.988069e-07</td>\n",
       "      <td>0.000001</td>\n",
       "    </tr>\n",
       "    <tr>\n",
       "      <th>HES3</th>\n",
       "      <td>0.000189</td>\n",
       "      <td>0.000085</td>\n",
       "      <td>0.000066</td>\n",
       "      <td>0.000215</td>\n",
       "      <td>0.000096</td>\n",
       "      <td>0.000214</td>\n",
       "      <td>0.000227</td>\n",
       "      <td>0.000173</td>\n",
       "      <td>0.000371</td>\n",
       "      <td>0.000043</td>\n",
       "      <td>...</td>\n",
       "      <td>0.000007</td>\n",
       "      <td>0.000001</td>\n",
       "      <td>1.084281e-06</td>\n",
       "      <td>6.428052e-07</td>\n",
       "      <td>7.739368e-07</td>\n",
       "      <td>7.895690e-07</td>\n",
       "      <td>0.306965</td>\n",
       "      <td>1.350374e-06</td>\n",
       "      <td>1.528725e-06</td>\n",
       "      <td>0.000002</td>\n",
       "    </tr>\n",
       "    <tr>\n",
       "      <th>CCL15</th>\n",
       "      <td>0.000131</td>\n",
       "      <td>0.000058</td>\n",
       "      <td>0.000047</td>\n",
       "      <td>0.000456</td>\n",
       "      <td>0.000078</td>\n",
       "      <td>0.000144</td>\n",
       "      <td>0.000159</td>\n",
       "      <td>0.000098</td>\n",
       "      <td>0.000271</td>\n",
       "      <td>0.000021</td>\n",
       "      <td>...</td>\n",
       "      <td>0.000006</td>\n",
       "      <td>0.000001</td>\n",
       "      <td>3.651458e-06</td>\n",
       "      <td>4.230124e-07</td>\n",
       "      <td>2.179614e-06</td>\n",
       "      <td>2.773850e-07</td>\n",
       "      <td>0.000001</td>\n",
       "      <td>3.007345e-01</td>\n",
       "      <td>1.846477e-04</td>\n",
       "      <td>0.000001</td>\n",
       "    </tr>\n",
       "    <tr>\n",
       "      <th>CCL4L2</th>\n",
       "      <td>0.000160</td>\n",
       "      <td>0.000074</td>\n",
       "      <td>0.000040</td>\n",
       "      <td>0.000454</td>\n",
       "      <td>0.000084</td>\n",
       "      <td>0.000163</td>\n",
       "      <td>0.000198</td>\n",
       "      <td>0.000123</td>\n",
       "      <td>0.000315</td>\n",
       "      <td>0.000024</td>\n",
       "      <td>...</td>\n",
       "      <td>0.000020</td>\n",
       "      <td>0.000005</td>\n",
       "      <td>1.208990e-05</td>\n",
       "      <td>5.961497e-07</td>\n",
       "      <td>1.772411e-06</td>\n",
       "      <td>2.996023e-07</td>\n",
       "      <td>0.000002</td>\n",
       "      <td>1.846477e-04</td>\n",
       "      <td>3.013736e-01</td>\n",
       "      <td>0.000002</td>\n",
       "    </tr>\n",
       "    <tr>\n",
       "      <th>SCUBE1</th>\n",
       "      <td>0.000407</td>\n",
       "      <td>0.000112</td>\n",
       "      <td>0.000040</td>\n",
       "      <td>0.000443</td>\n",
       "      <td>0.000121</td>\n",
       "      <td>0.000226</td>\n",
       "      <td>0.000442</td>\n",
       "      <td>0.000180</td>\n",
       "      <td>0.000693</td>\n",
       "      <td>0.000032</td>\n",
       "      <td>...</td>\n",
       "      <td>0.000014</td>\n",
       "      <td>0.000001</td>\n",
       "      <td>1.253224e-06</td>\n",
       "      <td>6.745498e-07</td>\n",
       "      <td>9.429307e-07</td>\n",
       "      <td>3.468766e-07</td>\n",
       "      <td>0.000002</td>\n",
       "      <td>1.464547e-06</td>\n",
       "      <td>1.697817e-06</td>\n",
       "      <td>0.301050</td>\n",
       "    </tr>\n",
       "  </tbody>\n",
       "</table>\n",
       "<p>2291 rows × 2291 columns</p>\n",
       "</div>"
      ],
      "text/plain": [
       "           HSPA2      RPN1       GK2     HSPA6    PPP3R1      DLG1     YWHAH  \\\n",
       "HSPA2   0.301161  0.000956  0.000756  0.001607  0.000843  0.000995  0.001226   \n",
       "RPN1    0.002033  0.300840  0.000080  0.002078  0.000182  0.000354  0.001989   \n",
       "GK2     0.004539  0.000225  0.301491  0.004585  0.000243  0.000275  0.000380   \n",
       "HSPA6   0.001356  0.000825  0.000645  0.301138  0.000712  0.000862  0.001064   \n",
       "PPP3R1  0.001901  0.000193  0.000091  0.001902  0.301018  0.000488  0.001999   \n",
       "...          ...       ...       ...       ...       ...       ...       ...   \n",
       "IGL     0.000290  0.000198  0.000061  0.000304  0.000105  0.000466  0.000177   \n",
       "HES3    0.000189  0.000085  0.000066  0.000215  0.000096  0.000214  0.000227   \n",
       "CCL15   0.000131  0.000058  0.000047  0.000456  0.000078  0.000144  0.000159   \n",
       "CCL4L2  0.000160  0.000074  0.000040  0.000454  0.000084  0.000163  0.000198   \n",
       "SCUBE1  0.000407  0.000112  0.000040  0.000443  0.000121  0.000226  0.000442   \n",
       "\n",
       "        HIST1H4I     HSPA8     PCSK6  ...  JMJD7-PLA2G4B    MALAT1  \\\n",
       "HSPA2   0.001015  0.001913  0.000658  ...       0.000010  0.000001   \n",
       "RPN1    0.000374  0.002458  0.000031  ...       0.000031  0.000001   \n",
       "GK2     0.000287  0.004798  0.000071  ...       0.000014  0.000001   \n",
       "HSPA6   0.000894  0.001676  0.000029  ...       0.000013  0.000004   \n",
       "PPP3R1  0.000301  0.002241  0.000043  ...       0.000012  0.000001   \n",
       "...          ...       ...       ...  ...            ...       ...   \n",
       "IGL     0.000092  0.000406  0.000020  ...       0.000006  0.000001   \n",
       "HES3    0.000173  0.000371  0.000043  ...       0.000007  0.000001   \n",
       "CCL15   0.000098  0.000271  0.000021  ...       0.000006  0.000001   \n",
       "CCL4L2  0.000123  0.000315  0.000024  ...       0.000020  0.000005   \n",
       "SCUBE1  0.000180  0.000693  0.000032  ...       0.000014  0.000001   \n",
       "\n",
       "               REG3G        NUTM2A           TRB           IGL      HES3  \\\n",
       "HSPA2   8.587660e-07  1.228380e-06  9.786070e-07  8.628454e-07  0.000002   \n",
       "RPN1    8.347618e-07  1.506721e-06  1.171929e-06  1.253445e-06  0.000002   \n",
       "GK2     1.854933e-06  1.054814e-06  1.049891e-06  1.097301e-06  0.000004   \n",
       "HSPA6   1.249675e-06  1.129278e-06  1.257611e-06  7.627595e-07  0.000002   \n",
       "PPP3R1  1.101603e-06  1.538312e-06  1.154950e-06  7.076435e-07  0.000002   \n",
       "...              ...           ...           ...           ...       ...   \n",
       "IGL     6.062103e-07  6.784775e-07  5.928115e-07  3.420842e-01  0.000002   \n",
       "HES3    1.084281e-06  6.428052e-07  7.739368e-07  7.895690e-07  0.306965   \n",
       "CCL15   3.651458e-06  4.230124e-07  2.179614e-06  2.773850e-07  0.000001   \n",
       "CCL4L2  1.208990e-05  5.961497e-07  1.772411e-06  2.996023e-07  0.000002   \n",
       "SCUBE1  1.253224e-06  6.745498e-07  9.429307e-07  3.468766e-07  0.000002   \n",
       "\n",
       "               CCL15        CCL4L2    SCUBE1  \n",
       "HSPA2   1.167224e-06  1.425421e-06  0.000004  \n",
       "RPN1    1.103068e-06  1.402252e-06  0.000002  \n",
       "GK2     2.528822e-06  2.167794e-06  0.000002  \n",
       "HSPA6   3.436474e-06  3.418481e-06  0.000003  \n",
       "PPP3R1  1.579535e-06  1.698535e-06  0.000002  \n",
       "...              ...           ...       ...  \n",
       "IGL     8.321551e-07  8.988069e-07  0.000001  \n",
       "HES3    1.350374e-06  1.528725e-06  0.000002  \n",
       "CCL15   3.007345e-01  1.846477e-04  0.000001  \n",
       "CCL4L2  1.846477e-04  3.013736e-01  0.000002  \n",
       "SCUBE1  1.464547e-06  1.697817e-06  0.301050  \n",
       "\n",
       "[2291 rows x 2291 columns]"
      ]
     },
     "execution_count": 10,
     "metadata": {},
     "output_type": "execute_result"
    }
   ],
   "source": [
    "kernel"
   ]
  },
  {
   "cell_type": "markdown",
   "metadata": {},
   "source": [
    "# Subsampling, propagation, and netNMF\n",
    "After the pre-computation of the regularization graph laplacian and the network propagation kernel, we perform the following core steps of the NBS algorithm multiple times (default=100x) to produce multiple patient clusterings that will be used in the later consensus clustering step. Each patient clustering is performed with the following steps:  \n",
    "  \n",
    " 1. **Subsample binary somatic mutation data.** (See the documentation for the [```subsample_sm_mat```](https://github.com/huangger/pyNBS/wiki/pyNBS.pyNBS_core.subsample_sm_mat) function for more details.)\n",
    " 2. **Propagate binary somatic mutation data over network.** (See the documentation for the [```network_propagation```](https://github.com/huangger/pyNBS/wiki/pyNBS.network_propagation.network_propagation) or [```network_kernel_propagation```](https://github.com/huangger/pyNBS/wiki/pyNBS.network_propagation.network_propagation) function for more details.)\n",
    " 3. **Quantile normalize the network-smoothed mutation data.** (See the documentation for the [```qnorm```](https://github.com/huangger/pyNBS/wiki/pyNBS.pyNBS_core.qnorm) function for more details.) \n",
    " 4. **Use netNMF to decompose network data into k clusters.** (See the documentation for the [```mixed_netNMF```](https://github.com/huangger/pyNBS/wiki/pyNBS.pyNBS_core.mixed_netNMF) function for more details.)\n",
    "  \n",
    "These functions for each step here are wrapped by the [```NBS_single```](https://github.com/huangger/pyNBS/wiki/pyNBS.pyNBS_single.NBS_single) function, which calls each step above in sequence to perform a single iteration of the pyNBS algorithm."
   ]
  },
  {
   "cell_type": "markdown",
   "metadata": {},
   "source": [
    "### Number of pyNBS clusters\n",
    "The default number of clusters constructed by pyNBS is k=3. We change that definition explicitly below or in the parameters for [```NBS_single```](https://github.com/huangger/pyNBS/wiki/pyNBS.pyNBS_single.NBS_single), and in this example we choose 4 clusters. Other parameters such as the subsampling parameters and the propagation coefficient (when no kernel is pre-computed) can also be changed using \\*\\*kwargs. \\*\\*kwargs can also will hold the values of \\*\\*save_args as seen in previous functions if the user would like to save the resulting dimension reduced patient profiles. All documentation of \\*\\*kwargs definitions are given in the Github wiki page for [```NBS_single```](https://github.com/huangger/pyNBS/wiki/pyNBS.pyNBS_single.NBS_single)"
   ]
  },
  {
   "cell_type": "markdown",
   "metadata": {},
   "source": [
    "### Number of pyNBS iterations\n",
    "The consensus clustering step of the pyNBS algorithm will improve if the data is subsampled, and re-clustered multiple times. The default number of times we perform the aforementioned operation (```niter```) is 100 times. The number can be reduced for faster run-time, but may produce less robust results. Increasing ```niter``` will increase overall runtime, but should produce more robust cluster assignments during consensus clustering."
   ]
  },
  {
   "cell_type": "code",
   "execution_count": 11,
   "metadata": {},
   "outputs": [],
   "source": [
    "clusters = 4\n",
    "\n",
    "# Set the number of times to perform pyNBS core steps\n",
    "niter = 100\n",
    "\n",
    "# Optional: Setting the output directory for files to be saved in\n",
    "outdir = './Results/CancerSubnetwork_GBM/'+'c'+str(clusters)+'_i'+str(niter)+'/'\n",
    "\n",
    "# Optional: Creating above output directory if it doesn't already exist\n",
    "if not os.path.exists(outdir):\n",
    "    os.makedirs(outdir)\n",
    "    \n",
    "# Optional: Setting a filename prefix for all files saved to outdir\n",
    "job_name = 'CS_c'+str(clusters)+'_i'+str(niter)\n",
    "\n",
    "# Constructs dictionary to be passed as \"save_args\" to functions if output to be saved\n",
    "save_args = {'outdir': outdir, 'job_name': job_name}"
   ]
  },
  {
   "cell_type": "code",
   "execution_count": 12,
   "metadata": {
    "scrolled": true
   },
   "outputs": [
    {
     "name": "stderr",
     "output_type": "stream",
     "text": [
      "/home/mihir/.local/lib/python3.8/site-packages/pyNBS/pyNBS_core.py:151: FutureWarning: `rcond` parameter will change to the default of machine precision times ``max(M, N)`` where M and N are the input matrix dimensions.\n",
      "To use the future default and silence this warning we advise to pass `rcond=None`, to keep using the old, explicitly pass `rcond=-1`.\n",
      "  W_init = np.linalg.lstsq(H.T, data.T)[0].T\n"
     ]
    },
    {
     "name": "stdout",
     "output_type": "stream",
     "text": [
      "NBS iteration: 1 complete: 27.15956401824951 seconds\n"
     ]
    },
    {
     "name": "stderr",
     "output_type": "stream",
     "text": [
      "/home/mihir/.local/lib/python3.8/site-packages/pyNBS/pyNBS_core.py:151: FutureWarning: `rcond` parameter will change to the default of machine precision times ``max(M, N)`` where M and N are the input matrix dimensions.\n",
      "To use the future default and silence this warning we advise to pass `rcond=None`, to keep using the old, explicitly pass `rcond=-1`.\n",
      "  W_init = np.linalg.lstsq(H.T, data.T)[0].T\n"
     ]
    },
    {
     "name": "stdout",
     "output_type": "stream",
     "text": [
      "NBS iteration: 2 complete: 26.745187997817993 seconds\n"
     ]
    },
    {
     "name": "stderr",
     "output_type": "stream",
     "text": [
      "/home/mihir/.local/lib/python3.8/site-packages/pyNBS/pyNBS_core.py:151: FutureWarning: `rcond` parameter will change to the default of machine precision times ``max(M, N)`` where M and N are the input matrix dimensions.\n",
      "To use the future default and silence this warning we advise to pass `rcond=None`, to keep using the old, explicitly pass `rcond=-1`.\n",
      "  W_init = np.linalg.lstsq(H.T, data.T)[0].T\n"
     ]
    },
    {
     "name": "stdout",
     "output_type": "stream",
     "text": [
      "NBS iteration: 3 complete: 26.50362229347229 seconds\n"
     ]
    },
    {
     "name": "stderr",
     "output_type": "stream",
     "text": [
      "/home/mihir/.local/lib/python3.8/site-packages/pyNBS/pyNBS_core.py:151: FutureWarning: `rcond` parameter will change to the default of machine precision times ``max(M, N)`` where M and N are the input matrix dimensions.\n",
      "To use the future default and silence this warning we advise to pass `rcond=None`, to keep using the old, explicitly pass `rcond=-1`.\n",
      "  W_init = np.linalg.lstsq(H.T, data.T)[0].T\n"
     ]
    },
    {
     "name": "stdout",
     "output_type": "stream",
     "text": [
      "NBS iteration: 4 complete: 24.309383869171143 seconds\n"
     ]
    },
    {
     "name": "stderr",
     "output_type": "stream",
     "text": [
      "/home/mihir/.local/lib/python3.8/site-packages/pyNBS/pyNBS_core.py:151: FutureWarning: `rcond` parameter will change to the default of machine precision times ``max(M, N)`` where M and N are the input matrix dimensions.\n",
      "To use the future default and silence this warning we advise to pass `rcond=None`, to keep using the old, explicitly pass `rcond=-1`.\n",
      "  W_init = np.linalg.lstsq(H.T, data.T)[0].T\n"
     ]
    },
    {
     "name": "stdout",
     "output_type": "stream",
     "text": [
      "NBS iteration: 5 complete: 26.91936469078064 seconds\n"
     ]
    },
    {
     "name": "stderr",
     "output_type": "stream",
     "text": [
      "/home/mihir/.local/lib/python3.8/site-packages/pyNBS/pyNBS_core.py:151: FutureWarning: `rcond` parameter will change to the default of machine precision times ``max(M, N)`` where M and N are the input matrix dimensions.\n",
      "To use the future default and silence this warning we advise to pass `rcond=None`, to keep using the old, explicitly pass `rcond=-1`.\n",
      "  W_init = np.linalg.lstsq(H.T, data.T)[0].T\n"
     ]
    },
    {
     "name": "stdout",
     "output_type": "stream",
     "text": [
      "NBS iteration: 6 complete: 28.2825186252594 seconds\n"
     ]
    },
    {
     "name": "stderr",
     "output_type": "stream",
     "text": [
      "/home/mihir/.local/lib/python3.8/site-packages/pyNBS/pyNBS_core.py:151: FutureWarning: `rcond` parameter will change to the default of machine precision times ``max(M, N)`` where M and N are the input matrix dimensions.\n",
      "To use the future default and silence this warning we advise to pass `rcond=None`, to keep using the old, explicitly pass `rcond=-1`.\n",
      "  W_init = np.linalg.lstsq(H.T, data.T)[0].T\n"
     ]
    },
    {
     "name": "stdout",
     "output_type": "stream",
     "text": [
      "NBS iteration: 7 complete: 26.699289321899414 seconds\n"
     ]
    },
    {
     "name": "stderr",
     "output_type": "stream",
     "text": [
      "/home/mihir/.local/lib/python3.8/site-packages/pyNBS/pyNBS_core.py:151: FutureWarning: `rcond` parameter will change to the default of machine precision times ``max(M, N)`` where M and N are the input matrix dimensions.\n",
      "To use the future default and silence this warning we advise to pass `rcond=None`, to keep using the old, explicitly pass `rcond=-1`.\n",
      "  W_init = np.linalg.lstsq(H.T, data.T)[0].T\n"
     ]
    },
    {
     "name": "stdout",
     "output_type": "stream",
     "text": [
      "NBS iteration: 8 complete: 26.512134790420532 seconds\n"
     ]
    },
    {
     "name": "stderr",
     "output_type": "stream",
     "text": [
      "/home/mihir/.local/lib/python3.8/site-packages/pyNBS/pyNBS_core.py:151: FutureWarning: `rcond` parameter will change to the default of machine precision times ``max(M, N)`` where M and N are the input matrix dimensions.\n",
      "To use the future default and silence this warning we advise to pass `rcond=None`, to keep using the old, explicitly pass `rcond=-1`.\n",
      "  W_init = np.linalg.lstsq(H.T, data.T)[0].T\n"
     ]
    },
    {
     "name": "stdout",
     "output_type": "stream",
     "text": [
      "NBS iteration: 9 complete: 26.651692152023315 seconds\n"
     ]
    },
    {
     "name": "stderr",
     "output_type": "stream",
     "text": [
      "/home/mihir/.local/lib/python3.8/site-packages/pyNBS/pyNBS_core.py:151: FutureWarning: `rcond` parameter will change to the default of machine precision times ``max(M, N)`` where M and N are the input matrix dimensions.\n",
      "To use the future default and silence this warning we advise to pass `rcond=None`, to keep using the old, explicitly pass `rcond=-1`.\n",
      "  W_init = np.linalg.lstsq(H.T, data.T)[0].T\n"
     ]
    },
    {
     "name": "stdout",
     "output_type": "stream",
     "text": [
      "NBS iteration: 10 complete: 25.523460626602173 seconds\n"
     ]
    },
    {
     "name": "stderr",
     "output_type": "stream",
     "text": [
      "/home/mihir/.local/lib/python3.8/site-packages/pyNBS/pyNBS_core.py:151: FutureWarning: `rcond` parameter will change to the default of machine precision times ``max(M, N)`` where M and N are the input matrix dimensions.\n",
      "To use the future default and silence this warning we advise to pass `rcond=None`, to keep using the old, explicitly pass `rcond=-1`.\n",
      "  W_init = np.linalg.lstsq(H.T, data.T)[0].T\n"
     ]
    },
    {
     "name": "stdout",
     "output_type": "stream",
     "text": [
      "NBS iteration: 11 complete: 26.199326992034912 seconds\n"
     ]
    },
    {
     "name": "stderr",
     "output_type": "stream",
     "text": [
      "/home/mihir/.local/lib/python3.8/site-packages/pyNBS/pyNBS_core.py:151: FutureWarning: `rcond` parameter will change to the default of machine precision times ``max(M, N)`` where M and N are the input matrix dimensions.\n",
      "To use the future default and silence this warning we advise to pass `rcond=None`, to keep using the old, explicitly pass `rcond=-1`.\n",
      "  W_init = np.linalg.lstsq(H.T, data.T)[0].T\n"
     ]
    },
    {
     "name": "stdout",
     "output_type": "stream",
     "text": [
      "NBS iteration: 12 complete: 26.453166246414185 seconds\n"
     ]
    },
    {
     "name": "stderr",
     "output_type": "stream",
     "text": [
      "/home/mihir/.local/lib/python3.8/site-packages/pyNBS/pyNBS_core.py:151: FutureWarning: `rcond` parameter will change to the default of machine precision times ``max(M, N)`` where M and N are the input matrix dimensions.\n",
      "To use the future default and silence this warning we advise to pass `rcond=None`, to keep using the old, explicitly pass `rcond=-1`.\n",
      "  W_init = np.linalg.lstsq(H.T, data.T)[0].T\n"
     ]
    },
    {
     "name": "stdout",
     "output_type": "stream",
     "text": [
      "NBS iteration: 13 complete: 26.406745433807373 seconds\n"
     ]
    },
    {
     "name": "stderr",
     "output_type": "stream",
     "text": [
      "/home/mihir/.local/lib/python3.8/site-packages/pyNBS/pyNBS_core.py:151: FutureWarning: `rcond` parameter will change to the default of machine precision times ``max(M, N)`` where M and N are the input matrix dimensions.\n",
      "To use the future default and silence this warning we advise to pass `rcond=None`, to keep using the old, explicitly pass `rcond=-1`.\n",
      "  W_init = np.linalg.lstsq(H.T, data.T)[0].T\n"
     ]
    },
    {
     "name": "stdout",
     "output_type": "stream",
     "text": [
      "NBS iteration: 14 complete: 26.157381296157837 seconds\n"
     ]
    },
    {
     "name": "stderr",
     "output_type": "stream",
     "text": [
      "/home/mihir/.local/lib/python3.8/site-packages/pyNBS/pyNBS_core.py:151: FutureWarning: `rcond` parameter will change to the default of machine precision times ``max(M, N)`` where M and N are the input matrix dimensions.\n",
      "To use the future default and silence this warning we advise to pass `rcond=None`, to keep using the old, explicitly pass `rcond=-1`.\n",
      "  W_init = np.linalg.lstsq(H.T, data.T)[0].T\n"
     ]
    },
    {
     "name": "stdout",
     "output_type": "stream",
     "text": [
      "NBS iteration: 15 complete: 27.613131999969482 seconds\n"
     ]
    },
    {
     "name": "stderr",
     "output_type": "stream",
     "text": [
      "/home/mihir/.local/lib/python3.8/site-packages/pyNBS/pyNBS_core.py:151: FutureWarning: `rcond` parameter will change to the default of machine precision times ``max(M, N)`` where M and N are the input matrix dimensions.\n",
      "To use the future default and silence this warning we advise to pass `rcond=None`, to keep using the old, explicitly pass `rcond=-1`.\n",
      "  W_init = np.linalg.lstsq(H.T, data.T)[0].T\n"
     ]
    },
    {
     "name": "stdout",
     "output_type": "stream",
     "text": [
      "NBS iteration: 16 complete: 27.564996242523193 seconds\n"
     ]
    },
    {
     "name": "stderr",
     "output_type": "stream",
     "text": [
      "/home/mihir/.local/lib/python3.8/site-packages/pyNBS/pyNBS_core.py:151: FutureWarning: `rcond` parameter will change to the default of machine precision times ``max(M, N)`` where M and N are the input matrix dimensions.\n",
      "To use the future default and silence this warning we advise to pass `rcond=None`, to keep using the old, explicitly pass `rcond=-1`.\n",
      "  W_init = np.linalg.lstsq(H.T, data.T)[0].T\n"
     ]
    },
    {
     "name": "stdout",
     "output_type": "stream",
     "text": [
      "NBS iteration: 17 complete: 25.94117021560669 seconds\n"
     ]
    },
    {
     "name": "stderr",
     "output_type": "stream",
     "text": [
      "/home/mihir/.local/lib/python3.8/site-packages/pyNBS/pyNBS_core.py:151: FutureWarning: `rcond` parameter will change to the default of machine precision times ``max(M, N)`` where M and N are the input matrix dimensions.\n",
      "To use the future default and silence this warning we advise to pass `rcond=None`, to keep using the old, explicitly pass `rcond=-1`.\n",
      "  W_init = np.linalg.lstsq(H.T, data.T)[0].T\n"
     ]
    },
    {
     "name": "stdout",
     "output_type": "stream",
     "text": [
      "NBS iteration: 18 complete: 28.05966830253601 seconds\n"
     ]
    },
    {
     "name": "stderr",
     "output_type": "stream",
     "text": [
      "/home/mihir/.local/lib/python3.8/site-packages/pyNBS/pyNBS_core.py:151: FutureWarning: `rcond` parameter will change to the default of machine precision times ``max(M, N)`` where M and N are the input matrix dimensions.\n",
      "To use the future default and silence this warning we advise to pass `rcond=None`, to keep using the old, explicitly pass `rcond=-1`.\n",
      "  W_init = np.linalg.lstsq(H.T, data.T)[0].T\n"
     ]
    },
    {
     "name": "stdout",
     "output_type": "stream",
     "text": [
      "NBS iteration: 19 complete: 27.248538732528687 seconds\n"
     ]
    },
    {
     "name": "stderr",
     "output_type": "stream",
     "text": [
      "/home/mihir/.local/lib/python3.8/site-packages/pyNBS/pyNBS_core.py:151: FutureWarning: `rcond` parameter will change to the default of machine precision times ``max(M, N)`` where M and N are the input matrix dimensions.\n",
      "To use the future default and silence this warning we advise to pass `rcond=None`, to keep using the old, explicitly pass `rcond=-1`.\n",
      "  W_init = np.linalg.lstsq(H.T, data.T)[0].T\n"
     ]
    },
    {
     "name": "stdout",
     "output_type": "stream",
     "text": [
      "NBS iteration: 20 complete: 26.00609040260315 seconds\n"
     ]
    },
    {
     "name": "stderr",
     "output_type": "stream",
     "text": [
      "/home/mihir/.local/lib/python3.8/site-packages/pyNBS/pyNBS_core.py:151: FutureWarning: `rcond` parameter will change to the default of machine precision times ``max(M, N)`` where M and N are the input matrix dimensions.\n",
      "To use the future default and silence this warning we advise to pass `rcond=None`, to keep using the old, explicitly pass `rcond=-1`.\n",
      "  W_init = np.linalg.lstsq(H.T, data.T)[0].T\n"
     ]
    },
    {
     "name": "stdout",
     "output_type": "stream",
     "text": [
      "NBS iteration: 21 complete: 27.963265657424927 seconds\n"
     ]
    },
    {
     "name": "stderr",
     "output_type": "stream",
     "text": [
      "/home/mihir/.local/lib/python3.8/site-packages/pyNBS/pyNBS_core.py:151: FutureWarning: `rcond` parameter will change to the default of machine precision times ``max(M, N)`` where M and N are the input matrix dimensions.\n",
      "To use the future default and silence this warning we advise to pass `rcond=None`, to keep using the old, explicitly pass `rcond=-1`.\n",
      "  W_init = np.linalg.lstsq(H.T, data.T)[0].T\n"
     ]
    },
    {
     "name": "stdout",
     "output_type": "stream",
     "text": [
      "NBS iteration: 22 complete: 26.08824634552002 seconds\n"
     ]
    },
    {
     "name": "stderr",
     "output_type": "stream",
     "text": [
      "/home/mihir/.local/lib/python3.8/site-packages/pyNBS/pyNBS_core.py:151: FutureWarning: `rcond` parameter will change to the default of machine precision times ``max(M, N)`` where M and N are the input matrix dimensions.\n",
      "To use the future default and silence this warning we advise to pass `rcond=None`, to keep using the old, explicitly pass `rcond=-1`.\n",
      "  W_init = np.linalg.lstsq(H.T, data.T)[0].T\n"
     ]
    },
    {
     "name": "stdout",
     "output_type": "stream",
     "text": [
      "NBS iteration: 23 complete: 26.151729822158813 seconds\n"
     ]
    },
    {
     "name": "stderr",
     "output_type": "stream",
     "text": [
      "/home/mihir/.local/lib/python3.8/site-packages/pyNBS/pyNBS_core.py:151: FutureWarning: `rcond` parameter will change to the default of machine precision times ``max(M, N)`` where M and N are the input matrix dimensions.\n",
      "To use the future default and silence this warning we advise to pass `rcond=None`, to keep using the old, explicitly pass `rcond=-1`.\n",
      "  W_init = np.linalg.lstsq(H.T, data.T)[0].T\n"
     ]
    },
    {
     "name": "stdout",
     "output_type": "stream",
     "text": [
      "NBS iteration: 24 complete: 26.86781907081604 seconds\n"
     ]
    },
    {
     "name": "stderr",
     "output_type": "stream",
     "text": [
      "/home/mihir/.local/lib/python3.8/site-packages/pyNBS/pyNBS_core.py:151: FutureWarning: `rcond` parameter will change to the default of machine precision times ``max(M, N)`` where M and N are the input matrix dimensions.\n",
      "To use the future default and silence this warning we advise to pass `rcond=None`, to keep using the old, explicitly pass `rcond=-1`.\n",
      "  W_init = np.linalg.lstsq(H.T, data.T)[0].T\n"
     ]
    },
    {
     "name": "stdout",
     "output_type": "stream",
     "text": [
      "NBS iteration: 25 complete: 25.163218021392822 seconds\n"
     ]
    },
    {
     "name": "stderr",
     "output_type": "stream",
     "text": [
      "/home/mihir/.local/lib/python3.8/site-packages/pyNBS/pyNBS_core.py:151: FutureWarning: `rcond` parameter will change to the default of machine precision times ``max(M, N)`` where M and N are the input matrix dimensions.\n",
      "To use the future default and silence this warning we advise to pass `rcond=None`, to keep using the old, explicitly pass `rcond=-1`.\n",
      "  W_init = np.linalg.lstsq(H.T, data.T)[0].T\n"
     ]
    },
    {
     "name": "stdout",
     "output_type": "stream",
     "text": [
      "NBS iteration: 26 complete: 26.69488000869751 seconds\n"
     ]
    },
    {
     "name": "stderr",
     "output_type": "stream",
     "text": [
      "/home/mihir/.local/lib/python3.8/site-packages/pyNBS/pyNBS_core.py:151: FutureWarning: `rcond` parameter will change to the default of machine precision times ``max(M, N)`` where M and N are the input matrix dimensions.\n",
      "To use the future default and silence this warning we advise to pass `rcond=None`, to keep using the old, explicitly pass `rcond=-1`.\n",
      "  W_init = np.linalg.lstsq(H.T, data.T)[0].T\n"
     ]
    },
    {
     "name": "stdout",
     "output_type": "stream",
     "text": [
      "NBS iteration: 27 complete: 27.17503261566162 seconds\n"
     ]
    },
    {
     "name": "stderr",
     "output_type": "stream",
     "text": [
      "/home/mihir/.local/lib/python3.8/site-packages/pyNBS/pyNBS_core.py:151: FutureWarning: `rcond` parameter will change to the default of machine precision times ``max(M, N)`` where M and N are the input matrix dimensions.\n",
      "To use the future default and silence this warning we advise to pass `rcond=None`, to keep using the old, explicitly pass `rcond=-1`.\n",
      "  W_init = np.linalg.lstsq(H.T, data.T)[0].T\n"
     ]
    },
    {
     "name": "stdout",
     "output_type": "stream",
     "text": [
      "NBS iteration: 28 complete: 25.675713777542114 seconds\n"
     ]
    },
    {
     "name": "stderr",
     "output_type": "stream",
     "text": [
      "/home/mihir/.local/lib/python3.8/site-packages/pyNBS/pyNBS_core.py:151: FutureWarning: `rcond` parameter will change to the default of machine precision times ``max(M, N)`` where M and N are the input matrix dimensions.\n",
      "To use the future default and silence this warning we advise to pass `rcond=None`, to keep using the old, explicitly pass `rcond=-1`.\n",
      "  W_init = np.linalg.lstsq(H.T, data.T)[0].T\n"
     ]
    },
    {
     "name": "stdout",
     "output_type": "stream",
     "text": [
      "NBS iteration: 29 complete: 27.093511819839478 seconds\n"
     ]
    },
    {
     "name": "stderr",
     "output_type": "stream",
     "text": [
      "/home/mihir/.local/lib/python3.8/site-packages/pyNBS/pyNBS_core.py:151: FutureWarning: `rcond` parameter will change to the default of machine precision times ``max(M, N)`` where M and N are the input matrix dimensions.\n",
      "To use the future default and silence this warning we advise to pass `rcond=None`, to keep using the old, explicitly pass `rcond=-1`.\n",
      "  W_init = np.linalg.lstsq(H.T, data.T)[0].T\n"
     ]
    },
    {
     "name": "stdout",
     "output_type": "stream",
     "text": [
      "NBS iteration: 30 complete: 26.275076150894165 seconds\n"
     ]
    },
    {
     "name": "stderr",
     "output_type": "stream",
     "text": [
      "/home/mihir/.local/lib/python3.8/site-packages/pyNBS/pyNBS_core.py:151: FutureWarning: `rcond` parameter will change to the default of machine precision times ``max(M, N)`` where M and N are the input matrix dimensions.\n",
      "To use the future default and silence this warning we advise to pass `rcond=None`, to keep using the old, explicitly pass `rcond=-1`.\n",
      "  W_init = np.linalg.lstsq(H.T, data.T)[0].T\n"
     ]
    },
    {
     "name": "stdout",
     "output_type": "stream",
     "text": [
      "NBS iteration: 31 complete: 25.232703924179077 seconds\n"
     ]
    },
    {
     "name": "stderr",
     "output_type": "stream",
     "text": [
      "/home/mihir/.local/lib/python3.8/site-packages/pyNBS/pyNBS_core.py:151: FutureWarning: `rcond` parameter will change to the default of machine precision times ``max(M, N)`` where M and N are the input matrix dimensions.\n",
      "To use the future default and silence this warning we advise to pass `rcond=None`, to keep using the old, explicitly pass `rcond=-1`.\n",
      "  W_init = np.linalg.lstsq(H.T, data.T)[0].T\n"
     ]
    },
    {
     "name": "stdout",
     "output_type": "stream",
     "text": [
      "NBS iteration: 32 complete: 26.426940202713013 seconds\n"
     ]
    },
    {
     "name": "stderr",
     "output_type": "stream",
     "text": [
      "/home/mihir/.local/lib/python3.8/site-packages/pyNBS/pyNBS_core.py:151: FutureWarning: `rcond` parameter will change to the default of machine precision times ``max(M, N)`` where M and N are the input matrix dimensions.\n",
      "To use the future default and silence this warning we advise to pass `rcond=None`, to keep using the old, explicitly pass `rcond=-1`.\n",
      "  W_init = np.linalg.lstsq(H.T, data.T)[0].T\n"
     ]
    },
    {
     "name": "stdout",
     "output_type": "stream",
     "text": [
      "NBS iteration: 33 complete: 26.758179426193237 seconds\n"
     ]
    },
    {
     "name": "stderr",
     "output_type": "stream",
     "text": [
      "/home/mihir/.local/lib/python3.8/site-packages/pyNBS/pyNBS_core.py:151: FutureWarning: `rcond` parameter will change to the default of machine precision times ``max(M, N)`` where M and N are the input matrix dimensions.\n",
      "To use the future default and silence this warning we advise to pass `rcond=None`, to keep using the old, explicitly pass `rcond=-1`.\n",
      "  W_init = np.linalg.lstsq(H.T, data.T)[0].T\n"
     ]
    },
    {
     "name": "stdout",
     "output_type": "stream",
     "text": [
      "NBS iteration: 34 complete: 25.712363719940186 seconds\n"
     ]
    },
    {
     "name": "stderr",
     "output_type": "stream",
     "text": [
      "/home/mihir/.local/lib/python3.8/site-packages/pyNBS/pyNBS_core.py:151: FutureWarning: `rcond` parameter will change to the default of machine precision times ``max(M, N)`` where M and N are the input matrix dimensions.\n",
      "To use the future default and silence this warning we advise to pass `rcond=None`, to keep using the old, explicitly pass `rcond=-1`.\n",
      "  W_init = np.linalg.lstsq(H.T, data.T)[0].T\n"
     ]
    },
    {
     "name": "stdout",
     "output_type": "stream",
     "text": [
      "NBS iteration: 35 complete: 27.712636947631836 seconds\n"
     ]
    },
    {
     "name": "stderr",
     "output_type": "stream",
     "text": [
      "/home/mihir/.local/lib/python3.8/site-packages/pyNBS/pyNBS_core.py:151: FutureWarning: `rcond` parameter will change to the default of machine precision times ``max(M, N)`` where M and N are the input matrix dimensions.\n",
      "To use the future default and silence this warning we advise to pass `rcond=None`, to keep using the old, explicitly pass `rcond=-1`.\n",
      "  W_init = np.linalg.lstsq(H.T, data.T)[0].T\n"
     ]
    },
    {
     "name": "stdout",
     "output_type": "stream",
     "text": [
      "NBS iteration: 36 complete: 26.030019283294678 seconds\n"
     ]
    },
    {
     "name": "stderr",
     "output_type": "stream",
     "text": [
      "/home/mihir/.local/lib/python3.8/site-packages/pyNBS/pyNBS_core.py:151: FutureWarning: `rcond` parameter will change to the default of machine precision times ``max(M, N)`` where M and N are the input matrix dimensions.\n",
      "To use the future default and silence this warning we advise to pass `rcond=None`, to keep using the old, explicitly pass `rcond=-1`.\n",
      "  W_init = np.linalg.lstsq(H.T, data.T)[0].T\n"
     ]
    },
    {
     "name": "stdout",
     "output_type": "stream",
     "text": [
      "NBS iteration: 37 complete: 26.953946113586426 seconds\n"
     ]
    },
    {
     "name": "stderr",
     "output_type": "stream",
     "text": [
      "/home/mihir/.local/lib/python3.8/site-packages/pyNBS/pyNBS_core.py:151: FutureWarning: `rcond` parameter will change to the default of machine precision times ``max(M, N)`` where M and N are the input matrix dimensions.\n",
      "To use the future default and silence this warning we advise to pass `rcond=None`, to keep using the old, explicitly pass `rcond=-1`.\n",
      "  W_init = np.linalg.lstsq(H.T, data.T)[0].T\n"
     ]
    },
    {
     "name": "stdout",
     "output_type": "stream",
     "text": [
      "NBS iteration: 38 complete: 26.889431715011597 seconds\n"
     ]
    },
    {
     "name": "stderr",
     "output_type": "stream",
     "text": [
      "/home/mihir/.local/lib/python3.8/site-packages/pyNBS/pyNBS_core.py:151: FutureWarning: `rcond` parameter will change to the default of machine precision times ``max(M, N)`` where M and N are the input matrix dimensions.\n",
      "To use the future default and silence this warning we advise to pass `rcond=None`, to keep using the old, explicitly pass `rcond=-1`.\n",
      "  W_init = np.linalg.lstsq(H.T, data.T)[0].T\n"
     ]
    },
    {
     "name": "stdout",
     "output_type": "stream",
     "text": [
      "NBS iteration: 39 complete: 22.52047610282898 seconds\n"
     ]
    },
    {
     "name": "stderr",
     "output_type": "stream",
     "text": [
      "/home/mihir/.local/lib/python3.8/site-packages/pyNBS/pyNBS_core.py:151: FutureWarning: `rcond` parameter will change to the default of machine precision times ``max(M, N)`` where M and N are the input matrix dimensions.\n",
      "To use the future default and silence this warning we advise to pass `rcond=None`, to keep using the old, explicitly pass `rcond=-1`.\n",
      "  W_init = np.linalg.lstsq(H.T, data.T)[0].T\n"
     ]
    },
    {
     "name": "stdout",
     "output_type": "stream",
     "text": [
      "NBS iteration: 40 complete: 22.676448106765747 seconds\n"
     ]
    },
    {
     "name": "stderr",
     "output_type": "stream",
     "text": [
      "/home/mihir/.local/lib/python3.8/site-packages/pyNBS/pyNBS_core.py:151: FutureWarning: `rcond` parameter will change to the default of machine precision times ``max(M, N)`` where M and N are the input matrix dimensions.\n",
      "To use the future default and silence this warning we advise to pass `rcond=None`, to keep using the old, explicitly pass `rcond=-1`.\n",
      "  W_init = np.linalg.lstsq(H.T, data.T)[0].T\n"
     ]
    },
    {
     "name": "stdout",
     "output_type": "stream",
     "text": [
      "NBS iteration: 41 complete: 24.022493839263916 seconds\n"
     ]
    },
    {
     "name": "stderr",
     "output_type": "stream",
     "text": [
      "/home/mihir/.local/lib/python3.8/site-packages/pyNBS/pyNBS_core.py:151: FutureWarning: `rcond` parameter will change to the default of machine precision times ``max(M, N)`` where M and N are the input matrix dimensions.\n",
      "To use the future default and silence this warning we advise to pass `rcond=None`, to keep using the old, explicitly pass `rcond=-1`.\n",
      "  W_init = np.linalg.lstsq(H.T, data.T)[0].T\n"
     ]
    },
    {
     "name": "stdout",
     "output_type": "stream",
     "text": [
      "NBS iteration: 42 complete: 22.388935089111328 seconds\n"
     ]
    },
    {
     "name": "stderr",
     "output_type": "stream",
     "text": [
      "/home/mihir/.local/lib/python3.8/site-packages/pyNBS/pyNBS_core.py:151: FutureWarning: `rcond` parameter will change to the default of machine precision times ``max(M, N)`` where M and N are the input matrix dimensions.\n",
      "To use the future default and silence this warning we advise to pass `rcond=None`, to keep using the old, explicitly pass `rcond=-1`.\n",
      "  W_init = np.linalg.lstsq(H.T, data.T)[0].T\n"
     ]
    },
    {
     "name": "stdout",
     "output_type": "stream",
     "text": [
      "NBS iteration: 43 complete: 25.156270265579224 seconds\n"
     ]
    },
    {
     "name": "stderr",
     "output_type": "stream",
     "text": [
      "/home/mihir/.local/lib/python3.8/site-packages/pyNBS/pyNBS_core.py:151: FutureWarning: `rcond` parameter will change to the default of machine precision times ``max(M, N)`` where M and N are the input matrix dimensions.\n",
      "To use the future default and silence this warning we advise to pass `rcond=None`, to keep using the old, explicitly pass `rcond=-1`.\n",
      "  W_init = np.linalg.lstsq(H.T, data.T)[0].T\n"
     ]
    },
    {
     "name": "stdout",
     "output_type": "stream",
     "text": [
      "NBS iteration: 44 complete: 24.68449640274048 seconds\n"
     ]
    },
    {
     "name": "stderr",
     "output_type": "stream",
     "text": [
      "/home/mihir/.local/lib/python3.8/site-packages/pyNBS/pyNBS_core.py:151: FutureWarning: `rcond` parameter will change to the default of machine precision times ``max(M, N)`` where M and N are the input matrix dimensions.\n",
      "To use the future default and silence this warning we advise to pass `rcond=None`, to keep using the old, explicitly pass `rcond=-1`.\n",
      "  W_init = np.linalg.lstsq(H.T, data.T)[0].T\n"
     ]
    },
    {
     "name": "stdout",
     "output_type": "stream",
     "text": [
      "NBS iteration: 45 complete: 25.625185251235962 seconds\n"
     ]
    },
    {
     "name": "stderr",
     "output_type": "stream",
     "text": [
      "/home/mihir/.local/lib/python3.8/site-packages/pyNBS/pyNBS_core.py:151: FutureWarning: `rcond` parameter will change to the default of machine precision times ``max(M, N)`` where M and N are the input matrix dimensions.\n",
      "To use the future default and silence this warning we advise to pass `rcond=None`, to keep using the old, explicitly pass `rcond=-1`.\n",
      "  W_init = np.linalg.lstsq(H.T, data.T)[0].T\n"
     ]
    },
    {
     "name": "stdout",
     "output_type": "stream",
     "text": [
      "NBS iteration: 46 complete: 25.271135091781616 seconds\n"
     ]
    },
    {
     "name": "stderr",
     "output_type": "stream",
     "text": [
      "/home/mihir/.local/lib/python3.8/site-packages/pyNBS/pyNBS_core.py:151: FutureWarning: `rcond` parameter will change to the default of machine precision times ``max(M, N)`` where M and N are the input matrix dimensions.\n",
      "To use the future default and silence this warning we advise to pass `rcond=None`, to keep using the old, explicitly pass `rcond=-1`.\n",
      "  W_init = np.linalg.lstsq(H.T, data.T)[0].T\n"
     ]
    },
    {
     "name": "stdout",
     "output_type": "stream",
     "text": [
      "NBS iteration: 47 complete: 24.094903230667114 seconds\n"
     ]
    },
    {
     "name": "stderr",
     "output_type": "stream",
     "text": [
      "/home/mihir/.local/lib/python3.8/site-packages/pyNBS/pyNBS_core.py:151: FutureWarning: `rcond` parameter will change to the default of machine precision times ``max(M, N)`` where M and N are the input matrix dimensions.\n",
      "To use the future default and silence this warning we advise to pass `rcond=None`, to keep using the old, explicitly pass `rcond=-1`.\n",
      "  W_init = np.linalg.lstsq(H.T, data.T)[0].T\n"
     ]
    },
    {
     "name": "stdout",
     "output_type": "stream",
     "text": [
      "NBS iteration: 48 complete: 23.09660267829895 seconds\n"
     ]
    },
    {
     "name": "stderr",
     "output_type": "stream",
     "text": [
      "/home/mihir/.local/lib/python3.8/site-packages/pyNBS/pyNBS_core.py:151: FutureWarning: `rcond` parameter will change to the default of machine precision times ``max(M, N)`` where M and N are the input matrix dimensions.\n",
      "To use the future default and silence this warning we advise to pass `rcond=None`, to keep using the old, explicitly pass `rcond=-1`.\n",
      "  W_init = np.linalg.lstsq(H.T, data.T)[0].T\n"
     ]
    },
    {
     "name": "stdout",
     "output_type": "stream",
     "text": [
      "NBS iteration: 49 complete: 22.218533992767334 seconds\n"
     ]
    },
    {
     "name": "stderr",
     "output_type": "stream",
     "text": [
      "/home/mihir/.local/lib/python3.8/site-packages/pyNBS/pyNBS_core.py:151: FutureWarning: `rcond` parameter will change to the default of machine precision times ``max(M, N)`` where M and N are the input matrix dimensions.\n",
      "To use the future default and silence this warning we advise to pass `rcond=None`, to keep using the old, explicitly pass `rcond=-1`.\n",
      "  W_init = np.linalg.lstsq(H.T, data.T)[0].T\n"
     ]
    },
    {
     "name": "stdout",
     "output_type": "stream",
     "text": [
      "NBS iteration: 50 complete: 23.011226415634155 seconds\n"
     ]
    },
    {
     "name": "stderr",
     "output_type": "stream",
     "text": [
      "/home/mihir/.local/lib/python3.8/site-packages/pyNBS/pyNBS_core.py:151: FutureWarning: `rcond` parameter will change to the default of machine precision times ``max(M, N)`` where M and N are the input matrix dimensions.\n",
      "To use the future default and silence this warning we advise to pass `rcond=None`, to keep using the old, explicitly pass `rcond=-1`.\n",
      "  W_init = np.linalg.lstsq(H.T, data.T)[0].T\n"
     ]
    },
    {
     "name": "stdout",
     "output_type": "stream",
     "text": [
      "NBS iteration: 51 complete: 23.40522074699402 seconds\n"
     ]
    },
    {
     "name": "stderr",
     "output_type": "stream",
     "text": [
      "/home/mihir/.local/lib/python3.8/site-packages/pyNBS/pyNBS_core.py:151: FutureWarning: `rcond` parameter will change to the default of machine precision times ``max(M, N)`` where M and N are the input matrix dimensions.\n",
      "To use the future default and silence this warning we advise to pass `rcond=None`, to keep using the old, explicitly pass `rcond=-1`.\n",
      "  W_init = np.linalg.lstsq(H.T, data.T)[0].T\n"
     ]
    },
    {
     "name": "stdout",
     "output_type": "stream",
     "text": [
      "NBS iteration: 52 complete: 23.703351259231567 seconds\n"
     ]
    },
    {
     "name": "stderr",
     "output_type": "stream",
     "text": [
      "/home/mihir/.local/lib/python3.8/site-packages/pyNBS/pyNBS_core.py:151: FutureWarning: `rcond` parameter will change to the default of machine precision times ``max(M, N)`` where M and N are the input matrix dimensions.\n",
      "To use the future default and silence this warning we advise to pass `rcond=None`, to keep using the old, explicitly pass `rcond=-1`.\n",
      "  W_init = np.linalg.lstsq(H.T, data.T)[0].T\n"
     ]
    },
    {
     "name": "stdout",
     "output_type": "stream",
     "text": [
      "NBS iteration: 53 complete: 22.8751003742218 seconds\n"
     ]
    },
    {
     "name": "stderr",
     "output_type": "stream",
     "text": [
      "/home/mihir/.local/lib/python3.8/site-packages/pyNBS/pyNBS_core.py:151: FutureWarning: `rcond` parameter will change to the default of machine precision times ``max(M, N)`` where M and N are the input matrix dimensions.\n",
      "To use the future default and silence this warning we advise to pass `rcond=None`, to keep using the old, explicitly pass `rcond=-1`.\n",
      "  W_init = np.linalg.lstsq(H.T, data.T)[0].T\n"
     ]
    },
    {
     "name": "stdout",
     "output_type": "stream",
     "text": [
      "NBS iteration: 54 complete: 23.301307439804077 seconds\n"
     ]
    },
    {
     "name": "stderr",
     "output_type": "stream",
     "text": [
      "/home/mihir/.local/lib/python3.8/site-packages/pyNBS/pyNBS_core.py:151: FutureWarning: `rcond` parameter will change to the default of machine precision times ``max(M, N)`` where M and N are the input matrix dimensions.\n",
      "To use the future default and silence this warning we advise to pass `rcond=None`, to keep using the old, explicitly pass `rcond=-1`.\n",
      "  W_init = np.linalg.lstsq(H.T, data.T)[0].T\n"
     ]
    },
    {
     "name": "stdout",
     "output_type": "stream",
     "text": [
      "NBS iteration: 55 complete: 23.648588180541992 seconds\n"
     ]
    },
    {
     "name": "stderr",
     "output_type": "stream",
     "text": [
      "/home/mihir/.local/lib/python3.8/site-packages/pyNBS/pyNBS_core.py:151: FutureWarning: `rcond` parameter will change to the default of machine precision times ``max(M, N)`` where M and N are the input matrix dimensions.\n",
      "To use the future default and silence this warning we advise to pass `rcond=None`, to keep using the old, explicitly pass `rcond=-1`.\n",
      "  W_init = np.linalg.lstsq(H.T, data.T)[0].T\n"
     ]
    },
    {
     "name": "stdout",
     "output_type": "stream",
     "text": [
      "NBS iteration: 56 complete: 24.04520082473755 seconds\n"
     ]
    },
    {
     "name": "stderr",
     "output_type": "stream",
     "text": [
      "/home/mihir/.local/lib/python3.8/site-packages/pyNBS/pyNBS_core.py:151: FutureWarning: `rcond` parameter will change to the default of machine precision times ``max(M, N)`` where M and N are the input matrix dimensions.\n",
      "To use the future default and silence this warning we advise to pass `rcond=None`, to keep using the old, explicitly pass `rcond=-1`.\n",
      "  W_init = np.linalg.lstsq(H.T, data.T)[0].T\n"
     ]
    },
    {
     "name": "stdout",
     "output_type": "stream",
     "text": [
      "NBS iteration: 57 complete: 24.596899032592773 seconds\n"
     ]
    },
    {
     "name": "stderr",
     "output_type": "stream",
     "text": [
      "/home/mihir/.local/lib/python3.8/site-packages/pyNBS/pyNBS_core.py:151: FutureWarning: `rcond` parameter will change to the default of machine precision times ``max(M, N)`` where M and N are the input matrix dimensions.\n",
      "To use the future default and silence this warning we advise to pass `rcond=None`, to keep using the old, explicitly pass `rcond=-1`.\n",
      "  W_init = np.linalg.lstsq(H.T, data.T)[0].T\n"
     ]
    },
    {
     "name": "stdout",
     "output_type": "stream",
     "text": [
      "NBS iteration: 58 complete: 22.297253608703613 seconds\n"
     ]
    },
    {
     "name": "stderr",
     "output_type": "stream",
     "text": [
      "/home/mihir/.local/lib/python3.8/site-packages/pyNBS/pyNBS_core.py:151: FutureWarning: `rcond` parameter will change to the default of machine precision times ``max(M, N)`` where M and N are the input matrix dimensions.\n",
      "To use the future default and silence this warning we advise to pass `rcond=None`, to keep using the old, explicitly pass `rcond=-1`.\n",
      "  W_init = np.linalg.lstsq(H.T, data.T)[0].T\n"
     ]
    },
    {
     "name": "stdout",
     "output_type": "stream",
     "text": [
      "NBS iteration: 59 complete: 23.88523554801941 seconds\n"
     ]
    },
    {
     "name": "stderr",
     "output_type": "stream",
     "text": [
      "/home/mihir/.local/lib/python3.8/site-packages/pyNBS/pyNBS_core.py:151: FutureWarning: `rcond` parameter will change to the default of machine precision times ``max(M, N)`` where M and N are the input matrix dimensions.\n",
      "To use the future default and silence this warning we advise to pass `rcond=None`, to keep using the old, explicitly pass `rcond=-1`.\n",
      "  W_init = np.linalg.lstsq(H.T, data.T)[0].T\n"
     ]
    },
    {
     "name": "stdout",
     "output_type": "stream",
     "text": [
      "NBS iteration: 60 complete: 25.11132001876831 seconds\n"
     ]
    },
    {
     "name": "stderr",
     "output_type": "stream",
     "text": [
      "/home/mihir/.local/lib/python3.8/site-packages/pyNBS/pyNBS_core.py:151: FutureWarning: `rcond` parameter will change to the default of machine precision times ``max(M, N)`` where M and N are the input matrix dimensions.\n",
      "To use the future default and silence this warning we advise to pass `rcond=None`, to keep using the old, explicitly pass `rcond=-1`.\n",
      "  W_init = np.linalg.lstsq(H.T, data.T)[0].T\n"
     ]
    },
    {
     "name": "stdout",
     "output_type": "stream",
     "text": [
      "NBS iteration: 61 complete: 23.32781720161438 seconds\n"
     ]
    },
    {
     "name": "stderr",
     "output_type": "stream",
     "text": [
      "/home/mihir/.local/lib/python3.8/site-packages/pyNBS/pyNBS_core.py:151: FutureWarning: `rcond` parameter will change to the default of machine precision times ``max(M, N)`` where M and N are the input matrix dimensions.\n",
      "To use the future default and silence this warning we advise to pass `rcond=None`, to keep using the old, explicitly pass `rcond=-1`.\n",
      "  W_init = np.linalg.lstsq(H.T, data.T)[0].T\n"
     ]
    },
    {
     "name": "stdout",
     "output_type": "stream",
     "text": [
      "NBS iteration: 62 complete: 23.13442349433899 seconds\n"
     ]
    },
    {
     "name": "stderr",
     "output_type": "stream",
     "text": [
      "/home/mihir/.local/lib/python3.8/site-packages/pyNBS/pyNBS_core.py:151: FutureWarning: `rcond` parameter will change to the default of machine precision times ``max(M, N)`` where M and N are the input matrix dimensions.\n",
      "To use the future default and silence this warning we advise to pass `rcond=None`, to keep using the old, explicitly pass `rcond=-1`.\n",
      "  W_init = np.linalg.lstsq(H.T, data.T)[0].T\n"
     ]
    },
    {
     "name": "stdout",
     "output_type": "stream",
     "text": [
      "NBS iteration: 63 complete: 22.351221084594727 seconds\n"
     ]
    },
    {
     "name": "stderr",
     "output_type": "stream",
     "text": [
      "/home/mihir/.local/lib/python3.8/site-packages/pyNBS/pyNBS_core.py:151: FutureWarning: `rcond` parameter will change to the default of machine precision times ``max(M, N)`` where M and N are the input matrix dimensions.\n",
      "To use the future default and silence this warning we advise to pass `rcond=None`, to keep using the old, explicitly pass `rcond=-1`.\n",
      "  W_init = np.linalg.lstsq(H.T, data.T)[0].T\n"
     ]
    },
    {
     "name": "stdout",
     "output_type": "stream",
     "text": [
      "NBS iteration: 64 complete: 21.253312826156616 seconds\n"
     ]
    },
    {
     "name": "stderr",
     "output_type": "stream",
     "text": [
      "/home/mihir/.local/lib/python3.8/site-packages/pyNBS/pyNBS_core.py:151: FutureWarning: `rcond` parameter will change to the default of machine precision times ``max(M, N)`` where M and N are the input matrix dimensions.\n",
      "To use the future default and silence this warning we advise to pass `rcond=None`, to keep using the old, explicitly pass `rcond=-1`.\n",
      "  W_init = np.linalg.lstsq(H.T, data.T)[0].T\n"
     ]
    },
    {
     "name": "stdout",
     "output_type": "stream",
     "text": [
      "NBS iteration: 65 complete: 23.35655641555786 seconds\n"
     ]
    },
    {
     "name": "stderr",
     "output_type": "stream",
     "text": [
      "/home/mihir/.local/lib/python3.8/site-packages/pyNBS/pyNBS_core.py:151: FutureWarning: `rcond` parameter will change to the default of machine precision times ``max(M, N)`` where M and N are the input matrix dimensions.\n",
      "To use the future default and silence this warning we advise to pass `rcond=None`, to keep using the old, explicitly pass `rcond=-1`.\n",
      "  W_init = np.linalg.lstsq(H.T, data.T)[0].T\n"
     ]
    },
    {
     "name": "stdout",
     "output_type": "stream",
     "text": [
      "NBS iteration: 66 complete: 23.60606336593628 seconds\n"
     ]
    },
    {
     "name": "stderr",
     "output_type": "stream",
     "text": [
      "/home/mihir/.local/lib/python3.8/site-packages/pyNBS/pyNBS_core.py:151: FutureWarning: `rcond` parameter will change to the default of machine precision times ``max(M, N)`` where M and N are the input matrix dimensions.\n",
      "To use the future default and silence this warning we advise to pass `rcond=None`, to keep using the old, explicitly pass `rcond=-1`.\n",
      "  W_init = np.linalg.lstsq(H.T, data.T)[0].T\n"
     ]
    },
    {
     "name": "stdout",
     "output_type": "stream",
     "text": [
      "NBS iteration: 67 complete: 23.089296579360962 seconds\n"
     ]
    },
    {
     "name": "stderr",
     "output_type": "stream",
     "text": [
      "/home/mihir/.local/lib/python3.8/site-packages/pyNBS/pyNBS_core.py:151: FutureWarning: `rcond` parameter will change to the default of machine precision times ``max(M, N)`` where M and N are the input matrix dimensions.\n",
      "To use the future default and silence this warning we advise to pass `rcond=None`, to keep using the old, explicitly pass `rcond=-1`.\n",
      "  W_init = np.linalg.lstsq(H.T, data.T)[0].T\n"
     ]
    },
    {
     "name": "stdout",
     "output_type": "stream",
     "text": [
      "NBS iteration: 68 complete: 23.851444959640503 seconds\n"
     ]
    },
    {
     "name": "stderr",
     "output_type": "stream",
     "text": [
      "/home/mihir/.local/lib/python3.8/site-packages/pyNBS/pyNBS_core.py:151: FutureWarning: `rcond` parameter will change to the default of machine precision times ``max(M, N)`` where M and N are the input matrix dimensions.\n",
      "To use the future default and silence this warning we advise to pass `rcond=None`, to keep using the old, explicitly pass `rcond=-1`.\n",
      "  W_init = np.linalg.lstsq(H.T, data.T)[0].T\n"
     ]
    },
    {
     "name": "stdout",
     "output_type": "stream",
     "text": [
      "NBS iteration: 69 complete: 23.403895616531372 seconds\n"
     ]
    },
    {
     "name": "stderr",
     "output_type": "stream",
     "text": [
      "/home/mihir/.local/lib/python3.8/site-packages/pyNBS/pyNBS_core.py:151: FutureWarning: `rcond` parameter will change to the default of machine precision times ``max(M, N)`` where M and N are the input matrix dimensions.\n",
      "To use the future default and silence this warning we advise to pass `rcond=None`, to keep using the old, explicitly pass `rcond=-1`.\n",
      "  W_init = np.linalg.lstsq(H.T, data.T)[0].T\n"
     ]
    },
    {
     "name": "stdout",
     "output_type": "stream",
     "text": [
      "NBS iteration: 70 complete: 23.365447282791138 seconds\n"
     ]
    },
    {
     "name": "stderr",
     "output_type": "stream",
     "text": [
      "/home/mihir/.local/lib/python3.8/site-packages/pyNBS/pyNBS_core.py:151: FutureWarning: `rcond` parameter will change to the default of machine precision times ``max(M, N)`` where M and N are the input matrix dimensions.\n",
      "To use the future default and silence this warning we advise to pass `rcond=None`, to keep using the old, explicitly pass `rcond=-1`.\n",
      "  W_init = np.linalg.lstsq(H.T, data.T)[0].T\n"
     ]
    },
    {
     "name": "stdout",
     "output_type": "stream",
     "text": [
      "NBS iteration: 71 complete: 24.00503134727478 seconds\n"
     ]
    },
    {
     "name": "stderr",
     "output_type": "stream",
     "text": [
      "/home/mihir/.local/lib/python3.8/site-packages/pyNBS/pyNBS_core.py:151: FutureWarning: `rcond` parameter will change to the default of machine precision times ``max(M, N)`` where M and N are the input matrix dimensions.\n",
      "To use the future default and silence this warning we advise to pass `rcond=None`, to keep using the old, explicitly pass `rcond=-1`.\n",
      "  W_init = np.linalg.lstsq(H.T, data.T)[0].T\n"
     ]
    },
    {
     "name": "stdout",
     "output_type": "stream",
     "text": [
      "NBS iteration: 72 complete: 24.262338876724243 seconds\n"
     ]
    },
    {
     "name": "stderr",
     "output_type": "stream",
     "text": [
      "/home/mihir/.local/lib/python3.8/site-packages/pyNBS/pyNBS_core.py:151: FutureWarning: `rcond` parameter will change to the default of machine precision times ``max(M, N)`` where M and N are the input matrix dimensions.\n",
      "To use the future default and silence this warning we advise to pass `rcond=None`, to keep using the old, explicitly pass `rcond=-1`.\n",
      "  W_init = np.linalg.lstsq(H.T, data.T)[0].T\n"
     ]
    },
    {
     "name": "stdout",
     "output_type": "stream",
     "text": [
      "NBS iteration: 73 complete: 22.032837867736816 seconds\n"
     ]
    },
    {
     "name": "stderr",
     "output_type": "stream",
     "text": [
      "/home/mihir/.local/lib/python3.8/site-packages/pyNBS/pyNBS_core.py:151: FutureWarning: `rcond` parameter will change to the default of machine precision times ``max(M, N)`` where M and N are the input matrix dimensions.\n",
      "To use the future default and silence this warning we advise to pass `rcond=None`, to keep using the old, explicitly pass `rcond=-1`.\n",
      "  W_init = np.linalg.lstsq(H.T, data.T)[0].T\n"
     ]
    },
    {
     "name": "stdout",
     "output_type": "stream",
     "text": [
      "NBS iteration: 74 complete: 24.549582719802856 seconds\n"
     ]
    },
    {
     "name": "stderr",
     "output_type": "stream",
     "text": [
      "/home/mihir/.local/lib/python3.8/site-packages/pyNBS/pyNBS_core.py:151: FutureWarning: `rcond` parameter will change to the default of machine precision times ``max(M, N)`` where M and N are the input matrix dimensions.\n",
      "To use the future default and silence this warning we advise to pass `rcond=None`, to keep using the old, explicitly pass `rcond=-1`.\n",
      "  W_init = np.linalg.lstsq(H.T, data.T)[0].T\n"
     ]
    },
    {
     "name": "stdout",
     "output_type": "stream",
     "text": [
      "NBS iteration: 75 complete: 23.576745748519897 seconds\n"
     ]
    },
    {
     "name": "stderr",
     "output_type": "stream",
     "text": [
      "/home/mihir/.local/lib/python3.8/site-packages/pyNBS/pyNBS_core.py:151: FutureWarning: `rcond` parameter will change to the default of machine precision times ``max(M, N)`` where M and N are the input matrix dimensions.\n",
      "To use the future default and silence this warning we advise to pass `rcond=None`, to keep using the old, explicitly pass `rcond=-1`.\n",
      "  W_init = np.linalg.lstsq(H.T, data.T)[0].T\n"
     ]
    },
    {
     "name": "stdout",
     "output_type": "stream",
     "text": [
      "NBS iteration: 76 complete: 22.199321508407593 seconds\n"
     ]
    },
    {
     "name": "stderr",
     "output_type": "stream",
     "text": [
      "/home/mihir/.local/lib/python3.8/site-packages/pyNBS/pyNBS_core.py:151: FutureWarning: `rcond` parameter will change to the default of machine precision times ``max(M, N)`` where M and N are the input matrix dimensions.\n",
      "To use the future default and silence this warning we advise to pass `rcond=None`, to keep using the old, explicitly pass `rcond=-1`.\n",
      "  W_init = np.linalg.lstsq(H.T, data.T)[0].T\n"
     ]
    },
    {
     "name": "stdout",
     "output_type": "stream",
     "text": [
      "NBS iteration: 77 complete: 23.51319193840027 seconds\n"
     ]
    },
    {
     "name": "stderr",
     "output_type": "stream",
     "text": [
      "/home/mihir/.local/lib/python3.8/site-packages/pyNBS/pyNBS_core.py:151: FutureWarning: `rcond` parameter will change to the default of machine precision times ``max(M, N)`` where M and N are the input matrix dimensions.\n",
      "To use the future default and silence this warning we advise to pass `rcond=None`, to keep using the old, explicitly pass `rcond=-1`.\n",
      "  W_init = np.linalg.lstsq(H.T, data.T)[0].T\n"
     ]
    },
    {
     "name": "stdout",
     "output_type": "stream",
     "text": [
      "NBS iteration: 78 complete: 25.2547025680542 seconds\n"
     ]
    },
    {
     "name": "stderr",
     "output_type": "stream",
     "text": [
      "/home/mihir/.local/lib/python3.8/site-packages/pyNBS/pyNBS_core.py:151: FutureWarning: `rcond` parameter will change to the default of machine precision times ``max(M, N)`` where M and N are the input matrix dimensions.\n",
      "To use the future default and silence this warning we advise to pass `rcond=None`, to keep using the old, explicitly pass `rcond=-1`.\n",
      "  W_init = np.linalg.lstsq(H.T, data.T)[0].T\n"
     ]
    },
    {
     "name": "stdout",
     "output_type": "stream",
     "text": [
      "NBS iteration: 79 complete: 22.80121159553528 seconds\n"
     ]
    },
    {
     "name": "stderr",
     "output_type": "stream",
     "text": [
      "/home/mihir/.local/lib/python3.8/site-packages/pyNBS/pyNBS_core.py:151: FutureWarning: `rcond` parameter will change to the default of machine precision times ``max(M, N)`` where M and N are the input matrix dimensions.\n",
      "To use the future default and silence this warning we advise to pass `rcond=None`, to keep using the old, explicitly pass `rcond=-1`.\n",
      "  W_init = np.linalg.lstsq(H.T, data.T)[0].T\n"
     ]
    },
    {
     "name": "stdout",
     "output_type": "stream",
     "text": [
      "NBS iteration: 80 complete: 22.943495750427246 seconds\n"
     ]
    },
    {
     "name": "stderr",
     "output_type": "stream",
     "text": [
      "/home/mihir/.local/lib/python3.8/site-packages/pyNBS/pyNBS_core.py:151: FutureWarning: `rcond` parameter will change to the default of machine precision times ``max(M, N)`` where M and N are the input matrix dimensions.\n",
      "To use the future default and silence this warning we advise to pass `rcond=None`, to keep using the old, explicitly pass `rcond=-1`.\n",
      "  W_init = np.linalg.lstsq(H.T, data.T)[0].T\n"
     ]
    },
    {
     "name": "stdout",
     "output_type": "stream",
     "text": [
      "NBS iteration: 81 complete: 22.748714685440063 seconds\n"
     ]
    },
    {
     "name": "stderr",
     "output_type": "stream",
     "text": [
      "/home/mihir/.local/lib/python3.8/site-packages/pyNBS/pyNBS_core.py:151: FutureWarning: `rcond` parameter will change to the default of machine precision times ``max(M, N)`` where M and N are the input matrix dimensions.\n",
      "To use the future default and silence this warning we advise to pass `rcond=None`, to keep using the old, explicitly pass `rcond=-1`.\n",
      "  W_init = np.linalg.lstsq(H.T, data.T)[0].T\n"
     ]
    },
    {
     "name": "stdout",
     "output_type": "stream",
     "text": [
      "NBS iteration: 82 complete: 21.71754741668701 seconds\n"
     ]
    },
    {
     "name": "stderr",
     "output_type": "stream",
     "text": [
      "/home/mihir/.local/lib/python3.8/site-packages/pyNBS/pyNBS_core.py:151: FutureWarning: `rcond` parameter will change to the default of machine precision times ``max(M, N)`` where M and N are the input matrix dimensions.\n",
      "To use the future default and silence this warning we advise to pass `rcond=None`, to keep using the old, explicitly pass `rcond=-1`.\n",
      "  W_init = np.linalg.lstsq(H.T, data.T)[0].T\n"
     ]
    },
    {
     "name": "stdout",
     "output_type": "stream",
     "text": [
      "NBS iteration: 83 complete: 23.597731113433838 seconds\n"
     ]
    },
    {
     "name": "stderr",
     "output_type": "stream",
     "text": [
      "/home/mihir/.local/lib/python3.8/site-packages/pyNBS/pyNBS_core.py:151: FutureWarning: `rcond` parameter will change to the default of machine precision times ``max(M, N)`` where M and N are the input matrix dimensions.\n",
      "To use the future default and silence this warning we advise to pass `rcond=None`, to keep using the old, explicitly pass `rcond=-1`.\n",
      "  W_init = np.linalg.lstsq(H.T, data.T)[0].T\n"
     ]
    },
    {
     "name": "stdout",
     "output_type": "stream",
     "text": [
      "NBS iteration: 84 complete: 23.678165197372437 seconds\n"
     ]
    },
    {
     "name": "stderr",
     "output_type": "stream",
     "text": [
      "/home/mihir/.local/lib/python3.8/site-packages/pyNBS/pyNBS_core.py:151: FutureWarning: `rcond` parameter will change to the default of machine precision times ``max(M, N)`` where M and N are the input matrix dimensions.\n",
      "To use the future default and silence this warning we advise to pass `rcond=None`, to keep using the old, explicitly pass `rcond=-1`.\n",
      "  W_init = np.linalg.lstsq(H.T, data.T)[0].T\n"
     ]
    },
    {
     "name": "stdout",
     "output_type": "stream",
     "text": [
      "NBS iteration: 85 complete: 23.64856481552124 seconds\n"
     ]
    },
    {
     "name": "stderr",
     "output_type": "stream",
     "text": [
      "/home/mihir/.local/lib/python3.8/site-packages/pyNBS/pyNBS_core.py:151: FutureWarning: `rcond` parameter will change to the default of machine precision times ``max(M, N)`` where M and N are the input matrix dimensions.\n",
      "To use the future default and silence this warning we advise to pass `rcond=None`, to keep using the old, explicitly pass `rcond=-1`.\n",
      "  W_init = np.linalg.lstsq(H.T, data.T)[0].T\n"
     ]
    },
    {
     "name": "stdout",
     "output_type": "stream",
     "text": [
      "NBS iteration: 86 complete: 23.218583583831787 seconds\n"
     ]
    },
    {
     "name": "stderr",
     "output_type": "stream",
     "text": [
      "/home/mihir/.local/lib/python3.8/site-packages/pyNBS/pyNBS_core.py:151: FutureWarning: `rcond` parameter will change to the default of machine precision times ``max(M, N)`` where M and N are the input matrix dimensions.\n",
      "To use the future default and silence this warning we advise to pass `rcond=None`, to keep using the old, explicitly pass `rcond=-1`.\n",
      "  W_init = np.linalg.lstsq(H.T, data.T)[0].T\n"
     ]
    },
    {
     "name": "stdout",
     "output_type": "stream",
     "text": [
      "NBS iteration: 87 complete: 23.20849108695984 seconds\n"
     ]
    },
    {
     "name": "stderr",
     "output_type": "stream",
     "text": [
      "/home/mihir/.local/lib/python3.8/site-packages/pyNBS/pyNBS_core.py:151: FutureWarning: `rcond` parameter will change to the default of machine precision times ``max(M, N)`` where M and N are the input matrix dimensions.\n",
      "To use the future default and silence this warning we advise to pass `rcond=None`, to keep using the old, explicitly pass `rcond=-1`.\n",
      "  W_init = np.linalg.lstsq(H.T, data.T)[0].T\n"
     ]
    },
    {
     "name": "stdout",
     "output_type": "stream",
     "text": [
      "NBS iteration: 88 complete: 23.714904069900513 seconds\n"
     ]
    },
    {
     "name": "stderr",
     "output_type": "stream",
     "text": [
      "/home/mihir/.local/lib/python3.8/site-packages/pyNBS/pyNBS_core.py:151: FutureWarning: `rcond` parameter will change to the default of machine precision times ``max(M, N)`` where M and N are the input matrix dimensions.\n",
      "To use the future default and silence this warning we advise to pass `rcond=None`, to keep using the old, explicitly pass `rcond=-1`.\n",
      "  W_init = np.linalg.lstsq(H.T, data.T)[0].T\n"
     ]
    },
    {
     "name": "stdout",
     "output_type": "stream",
     "text": [
      "NBS iteration: 89 complete: 23.760717630386353 seconds\n"
     ]
    },
    {
     "name": "stderr",
     "output_type": "stream",
     "text": [
      "/home/mihir/.local/lib/python3.8/site-packages/pyNBS/pyNBS_core.py:151: FutureWarning: `rcond` parameter will change to the default of machine precision times ``max(M, N)`` where M and N are the input matrix dimensions.\n",
      "To use the future default and silence this warning we advise to pass `rcond=None`, to keep using the old, explicitly pass `rcond=-1`.\n",
      "  W_init = np.linalg.lstsq(H.T, data.T)[0].T\n"
     ]
    },
    {
     "name": "stdout",
     "output_type": "stream",
     "text": [
      "NBS iteration: 90 complete: 24.35700011253357 seconds\n"
     ]
    },
    {
     "name": "stderr",
     "output_type": "stream",
     "text": [
      "/home/mihir/.local/lib/python3.8/site-packages/pyNBS/pyNBS_core.py:151: FutureWarning: `rcond` parameter will change to the default of machine precision times ``max(M, N)`` where M and N are the input matrix dimensions.\n",
      "To use the future default and silence this warning we advise to pass `rcond=None`, to keep using the old, explicitly pass `rcond=-1`.\n",
      "  W_init = np.linalg.lstsq(H.T, data.T)[0].T\n"
     ]
    },
    {
     "name": "stdout",
     "output_type": "stream",
     "text": [
      "NBS iteration: 91 complete: 22.691763401031494 seconds\n"
     ]
    },
    {
     "name": "stderr",
     "output_type": "stream",
     "text": [
      "/home/mihir/.local/lib/python3.8/site-packages/pyNBS/pyNBS_core.py:151: FutureWarning: `rcond` parameter will change to the default of machine precision times ``max(M, N)`` where M and N are the input matrix dimensions.\n",
      "To use the future default and silence this warning we advise to pass `rcond=None`, to keep using the old, explicitly pass `rcond=-1`.\n",
      "  W_init = np.linalg.lstsq(H.T, data.T)[0].T\n"
     ]
    },
    {
     "name": "stdout",
     "output_type": "stream",
     "text": [
      "NBS iteration: 92 complete: 23.506386518478394 seconds\n"
     ]
    },
    {
     "name": "stderr",
     "output_type": "stream",
     "text": [
      "/home/mihir/.local/lib/python3.8/site-packages/pyNBS/pyNBS_core.py:151: FutureWarning: `rcond` parameter will change to the default of machine precision times ``max(M, N)`` where M and N are the input matrix dimensions.\n",
      "To use the future default and silence this warning we advise to pass `rcond=None`, to keep using the old, explicitly pass `rcond=-1`.\n",
      "  W_init = np.linalg.lstsq(H.T, data.T)[0].T\n"
     ]
    },
    {
     "name": "stdout",
     "output_type": "stream",
     "text": [
      "NBS iteration: 93 complete: 23.746458292007446 seconds\n"
     ]
    },
    {
     "name": "stderr",
     "output_type": "stream",
     "text": [
      "/home/mihir/.local/lib/python3.8/site-packages/pyNBS/pyNBS_core.py:151: FutureWarning: `rcond` parameter will change to the default of machine precision times ``max(M, N)`` where M and N are the input matrix dimensions.\n",
      "To use the future default and silence this warning we advise to pass `rcond=None`, to keep using the old, explicitly pass `rcond=-1`.\n",
      "  W_init = np.linalg.lstsq(H.T, data.T)[0].T\n"
     ]
    },
    {
     "name": "stdout",
     "output_type": "stream",
     "text": [
      "NBS iteration: 94 complete: 22.708777904510498 seconds\n"
     ]
    },
    {
     "name": "stderr",
     "output_type": "stream",
     "text": [
      "/home/mihir/.local/lib/python3.8/site-packages/pyNBS/pyNBS_core.py:151: FutureWarning: `rcond` parameter will change to the default of machine precision times ``max(M, N)`` where M and N are the input matrix dimensions.\n",
      "To use the future default and silence this warning we advise to pass `rcond=None`, to keep using the old, explicitly pass `rcond=-1`.\n",
      "  W_init = np.linalg.lstsq(H.T, data.T)[0].T\n"
     ]
    },
    {
     "name": "stdout",
     "output_type": "stream",
     "text": [
      "NBS iteration: 95 complete: 24.21928381919861 seconds\n"
     ]
    },
    {
     "name": "stderr",
     "output_type": "stream",
     "text": [
      "/home/mihir/.local/lib/python3.8/site-packages/pyNBS/pyNBS_core.py:151: FutureWarning: `rcond` parameter will change to the default of machine precision times ``max(M, N)`` where M and N are the input matrix dimensions.\n",
      "To use the future default and silence this warning we advise to pass `rcond=None`, to keep using the old, explicitly pass `rcond=-1`.\n",
      "  W_init = np.linalg.lstsq(H.T, data.T)[0].T\n"
     ]
    },
    {
     "name": "stdout",
     "output_type": "stream",
     "text": [
      "NBS iteration: 96 complete: 25.85757565498352 seconds\n"
     ]
    },
    {
     "name": "stderr",
     "output_type": "stream",
     "text": [
      "/home/mihir/.local/lib/python3.8/site-packages/pyNBS/pyNBS_core.py:151: FutureWarning: `rcond` parameter will change to the default of machine precision times ``max(M, N)`` where M and N are the input matrix dimensions.\n",
      "To use the future default and silence this warning we advise to pass `rcond=None`, to keep using the old, explicitly pass `rcond=-1`.\n",
      "  W_init = np.linalg.lstsq(H.T, data.T)[0].T\n"
     ]
    },
    {
     "name": "stdout",
     "output_type": "stream",
     "text": [
      "NBS iteration: 97 complete: 31.38491439819336 seconds\n"
     ]
    },
    {
     "name": "stderr",
     "output_type": "stream",
     "text": [
      "/home/mihir/.local/lib/python3.8/site-packages/pyNBS/pyNBS_core.py:151: FutureWarning: `rcond` parameter will change to the default of machine precision times ``max(M, N)`` where M and N are the input matrix dimensions.\n",
      "To use the future default and silence this warning we advise to pass `rcond=None`, to keep using the old, explicitly pass `rcond=-1`.\n",
      "  W_init = np.linalg.lstsq(H.T, data.T)[0].T\n"
     ]
    },
    {
     "name": "stdout",
     "output_type": "stream",
     "text": [
      "NBS iteration: 98 complete: 30.206283569335938 seconds\n"
     ]
    },
    {
     "name": "stderr",
     "output_type": "stream",
     "text": [
      "/home/mihir/.local/lib/python3.8/site-packages/pyNBS/pyNBS_core.py:151: FutureWarning: `rcond` parameter will change to the default of machine precision times ``max(M, N)`` where M and N are the input matrix dimensions.\n",
      "To use the future default and silence this warning we advise to pass `rcond=None`, to keep using the old, explicitly pass `rcond=-1`.\n",
      "  W_init = np.linalg.lstsq(H.T, data.T)[0].T\n"
     ]
    },
    {
     "name": "stdout",
     "output_type": "stream",
     "text": [
      "NBS iteration: 99 complete: 30.214683771133423 seconds\n"
     ]
    },
    {
     "name": "stderr",
     "output_type": "stream",
     "text": [
      "/home/mihir/.local/lib/python3.8/site-packages/pyNBS/pyNBS_core.py:151: FutureWarning: `rcond` parameter will change to the default of machine precision times ``max(M, N)`` where M and N are the input matrix dimensions.\n",
      "To use the future default and silence this warning we advise to pass `rcond=None`, to keep using the old, explicitly pass `rcond=-1`.\n",
      "  W_init = np.linalg.lstsq(H.T, data.T)[0].T\n"
     ]
    },
    {
     "name": "stdout",
     "output_type": "stream",
     "text": [
      "NBS iteration: 100 complete: 31.290799140930176 seconds\n"
     ]
    }
   ],
   "source": [
    "# Optional: Saving the intermediate propagation step (from subsampled data) to file\n",
    "# save_args['save_prop'] = True\n",
    "\n",
    "# Run pyNBS 'niter' number of times\n",
    "Hlist = []\n",
    "for i in range(niter):\n",
    "    netNMF_time = time.time()\n",
    "    # Run pyNBS core steps and save resulting H matrix to Hlist\n",
    "    Hlist.append(pyNBS_single.NBS_single(sm_mat, knnGlap, propNet=network, propNet_kernel=kernel, k=clusters))\n",
    "    \n",
    "    ##########################################################################################################\n",
    "    # Optional: If the user is saving intermediate outputs (propagation results or H matrices), \n",
    "    # a different 'iteration_label' should be used for each call of pyNBS_single().\n",
    "    # Otherwise, the user will overwrite each H matrix at each call of pyNBS_single()\n",
    "    # Uncomment and run the two lines below to save intermediate steps instead of the previous line\n",
    "    # save_args['iteration_label']=str(i+1)\n",
    "    # Hlist.append(pyNBS_single.NBS_single(sm_mat, propNet=network, propNet_kernel=kernel, regNet_glap=knnGlap, \n",
    "    #                                      k=clusters, **save_args))\n",
    "    ##########################################################################################################\n",
    "    \n",
    "    # Report run time of each pyNBS iteration\n",
    "    t = time.time()-netNMF_time\n",
    "    print ('NBS iteration:', i+1, 'complete:', t, 'seconds')"
   ]
  },
  {
   "cell_type": "markdown",
   "metadata": {},
   "source": [
    "# Consensus Clustering\n",
    "In order to produce robust patient clusters, the sub-sampling and re-clustering steps as done above are needed. After the patient data is subsampled multiple times (default ```niter```=100), we perform the [```consensus_hclust_hard```](https://github.com/huangger/pyNBS/wiki/pyNBS.consensus_clustering.consensus_hclust_hard) function in the conensus_clustering module. It accepts a list of pandas dataframes as generated in the previous step. If the H matrices were generated separately and saved to a directory, the user will need to manually import those H matrices into a python list first before passing the list to the function below. \n",
    "\n",
    "For more information on how the consensus clustering is performed, please see our wiki page on this function:\n",
    "https://github.com/huangger/pyNBS/wiki/pyNBS.consensus_clustering.consensus_hclust_hard"
   ]
  },
  {
   "cell_type": "code",
   "execution_count": 13,
   "metadata": {},
   "outputs": [
    {
     "name": "stdout",
     "output_type": "stream",
     "text": [
      "Constructing Hlist: 100 cluster matrices,  389 samples\n",
      "Hlist consensus constructed and sample clusters assigned\n"
     ]
    }
   ],
   "source": [
    "NBS_cc_table, NBS_cc_linkage, NBS_cluster_assign = cc.consensus_hclust_hard(Hlist, k=clusters, **save_args)"
   ]
  },
  {
   "cell_type": "markdown",
   "metadata": {},
   "source": [
    "# Co-Clustering Map\n",
    "To visualize the clusters formed by the pyNBS algorithm, we can plot a similarity map using the objects created in the previous step. This step uses the [`cluster_color_assign`](https://github.com/huangger/pyNBS/wiki/pyNBS.pyNBS_plotting.cluster_color_assign) and [`plot_cc_map()`](https://github.com/huangger/pyNBS/wiki/pyNBS.pyNBS_plotting.plot_cc_map) functions in the [`pyNBS_plotting`](https://github.com/huangger/pyNBS/wiki/pyNBS.pyNBS_plotting) module."
   ]
  },
  {
   "cell_type": "code",
   "execution_count": 14,
   "metadata": {},
   "outputs": [
    {
     "name": "stdout",
     "output_type": "stream",
     "text": [
      "Co-Clustering Map plotted\n"
     ]
    },
    {
     "name": "stderr",
     "output_type": "stream",
     "text": [
      "/home/mihir/.local/lib/python3.8/site-packages/pyNBS/pyNBS_plotting.py:51: UserWarning: Matplotlib is currently using agg, which is a non-GUI backend, so cannot show the figure.\n",
      "  plt.show()\n"
     ]
    }
   ],
   "source": [
    "# Assign colors to clusters from pyNBS\n",
    "pyNBS_GBM_clust_cmap = plot.cluster_color_assign(NBS_cluster_assign, name='GBM Cluster Assignments')\n",
    "\n",
    "# Plot and save co-cluster map figure\n",
    "plot.plot_cc_map(NBS_cc_table, NBS_cc_linkage, col_color_map=pyNBS_GBM_clust_cmap, **save_args)"
   ]
  },
  {
   "cell_type": "code",
   "execution_count": 15,
   "metadata": {},
   "outputs": [
    {
     "data": {
      "image/png": "[encoded data removed]",
      "text/plain": [
       "<IPython.core.display.Image object>"
      ]
     },
     "execution_count": 15,
     "metadata": {
      "image/png": {
       "height": 600,
       "width": 600
      }
     },
     "output_type": "execute_result"
    }
   ],
   "source": [
    "Image(filename = save_args['outdir']+save_args['job_name']+'_cc_map.png', width=600, height=600)"
   ]
  },
  {
   "cell_type": "markdown",
   "metadata": {},
   "source": [
    "# Survival analysis\n",
    "To determine if the patient clusters are prognostically relevant, we perform a standard survival analysis using a multi-class logrank test to evaluate the significance of survival separation between patient clusters. This data is plotted using a Kaplan-Meier plot using the [`cluster_KMplot()`](https://github.com/huangger/pyNBS/wiki/pyNBS.pyNBS_plotting.cluster_KMplot) in the [`pyNBS_plotting`](https://github.com/huangger/pyNBS/wiki/pyNBS.pyNBS_plotting) module. \n",
    "\n",
    "\n",
    "In order to plot the survival differences between clusters, we will need to load survival data for each patient. This data was extracted from TCGA clinical data. The survival data is given in a 5-column delimited table with the specific headings described below (the columns must be in the same order as shown below). The following is an example of a few lines of the a survival table:  \n",
    "\n",
    "||vital_status|days_to_death|days_to_last_followup|overall_survival|\n",
    "|-|-|-|-|-|\n",
    "|TCGA-2E-A9G8|0|0|1065|1065|\n",
    "|TCGA-A5-A0GI|0|0|1750|1750|\n",
    "|TCGA-A5-A0GM|0|0|1448|1448|\n",
    "|TCGA-A5-A1OK|0|0|244|244|\n",
    "|TCGA-A5-AB3J|0|0|251|251|\n",
    "\n",
    "Additional details on the survival data file format is also describe on our Github wiki at: \n",
    "https://github.com/huangger/pyNBS/wiki/Patient-Survival-Data-File-Format\n",
    "\n",
    "Note: The default setting for pyNBS is that no survival curves are drawn because the survival data is not a required parameter. The path to valid survival data must be explicitly defined."
   ]
  },
  {
   "cell_type": "code",
   "execution_count": 16,
   "metadata": {},
   "outputs": [
    {
     "data": {
      "text/html": [
       "<div>\n",
       "<style scoped>\n",
       "    .dataframe tbody tr th:only-of-type {\n",
       "        vertical-align: middle;\n",
       "    }\n",
       "\n",
       "    .dataframe tbody tr th {\n",
       "        vertical-align: top;\n",
       "    }\n",
       "\n",
       "    .dataframe thead th {\n",
       "        text-align: right;\n",
       "    }\n",
       "</style>\n",
       "<table border=\"1\" class=\"dataframe\">\n",
       "  <thead>\n",
       "    <tr style=\"text-align: right;\">\n",
       "      <th></th>\n",
       "      <th>submitter_id</th>\n",
       "      <th>vital_status</th>\n",
       "      <th>days_to_death</th>\n",
       "      <th>days_to_last_follow_up</th>\n",
       "      <th>overall_survival</th>\n",
       "    </tr>\n",
       "  </thead>\n",
       "  <tbody>\n",
       "    <tr>\n",
       "      <th>1</th>\n",
       "      <td>TCGA-02-0339</td>\n",
       "      <td>1.0</td>\n",
       "      <td>377.0</td>\n",
       "      <td>377.0</td>\n",
       "      <td>377.0</td>\n",
       "    </tr>\n",
       "    <tr>\n",
       "      <th>2</th>\n",
       "      <td>TCGA-12-0820</td>\n",
       "      <td>1.0</td>\n",
       "      <td>562.0</td>\n",
       "      <td>562.0</td>\n",
       "      <td>562.0</td>\n",
       "    </tr>\n",
       "    <tr>\n",
       "      <th>3</th>\n",
       "      <td>TCGA-06-0209</td>\n",
       "      <td>1.0</td>\n",
       "      <td>232.0</td>\n",
       "      <td>119.0</td>\n",
       "      <td>232.0</td>\n",
       "    </tr>\n",
       "    <tr>\n",
       "      <th>4</th>\n",
       "      <td>TCGA-06-6390</td>\n",
       "      <td>1.0</td>\n",
       "      <td>164.0</td>\n",
       "      <td>164.0</td>\n",
       "      <td>164.0</td>\n",
       "    </tr>\n",
       "    <tr>\n",
       "      <th>5</th>\n",
       "      <td>TCGA-4W-AA9R</td>\n",
       "      <td>0.0</td>\n",
       "      <td>0.0</td>\n",
       "      <td>124.0</td>\n",
       "      <td>124.0</td>\n",
       "    </tr>\n",
       "    <tr>\n",
       "      <th>...</th>\n",
       "      <td>...</td>\n",
       "      <td>...</td>\n",
       "      <td>...</td>\n",
       "      <td>...</td>\n",
       "      <td>...</td>\n",
       "    </tr>\n",
       "    <tr>\n",
       "      <th>613</th>\n",
       "      <td>TCGA-08-0627</td>\n",
       "      <td>0.0</td>\n",
       "      <td>0.0</td>\n",
       "      <td>0.0</td>\n",
       "      <td>0.0</td>\n",
       "    </tr>\n",
       "    <tr>\n",
       "      <th>614</th>\n",
       "      <td>TCGA-16-1048</td>\n",
       "      <td>0.0</td>\n",
       "      <td>0.0</td>\n",
       "      <td>0.0</td>\n",
       "      <td>0.0</td>\n",
       "    </tr>\n",
       "    <tr>\n",
       "      <th>615</th>\n",
       "      <td>TCGA-02-0250</td>\n",
       "      <td>0.0</td>\n",
       "      <td>0.0</td>\n",
       "      <td>0.0</td>\n",
       "      <td>0.0</td>\n",
       "    </tr>\n",
       "    <tr>\n",
       "      <th>616</th>\n",
       "      <td>TCGA-06-0681</td>\n",
       "      <td>0.0</td>\n",
       "      <td>0.0</td>\n",
       "      <td>0.0</td>\n",
       "      <td>0.0</td>\n",
       "    </tr>\n",
       "    <tr>\n",
       "      <th>617</th>\n",
       "      <td>TCGA-28-2510</td>\n",
       "      <td>0.0</td>\n",
       "      <td>0.0</td>\n",
       "      <td>0.0</td>\n",
       "      <td>0.0</td>\n",
       "    </tr>\n",
       "  </tbody>\n",
       "</table>\n",
       "<p>617 rows × 5 columns</p>\n",
       "</div>"
      ],
      "text/plain": [
       "     submitter_id  vital_status  days_to_death  days_to_last_follow_up  \\\n",
       "1    TCGA-02-0339           1.0          377.0                   377.0   \n",
       "2    TCGA-12-0820           1.0          562.0                   562.0   \n",
       "3    TCGA-06-0209           1.0          232.0                   119.0   \n",
       "4    TCGA-06-6390           1.0          164.0                   164.0   \n",
       "5    TCGA-4W-AA9R           0.0            0.0                   124.0   \n",
       "..            ...           ...            ...                     ...   \n",
       "613  TCGA-08-0627           0.0            0.0                     0.0   \n",
       "614  TCGA-16-1048           0.0            0.0                     0.0   \n",
       "615  TCGA-02-0250           0.0            0.0                     0.0   \n",
       "616  TCGA-06-0681           0.0            0.0                     0.0   \n",
       "617  TCGA-28-2510           0.0            0.0                     0.0   \n",
       "\n",
       "     overall_survival  \n",
       "1               377.0  \n",
       "2               562.0  \n",
       "3               232.0  \n",
       "4               164.0  \n",
       "5               124.0  \n",
       "..                ...  \n",
       "613               0.0  \n",
       "614               0.0  \n",
       "615               0.0  \n",
       "616               0.0  \n",
       "617               0.0  \n",
       "\n",
       "[617 rows x 5 columns]"
      ]
     },
     "execution_count": 16,
     "metadata": {},
     "output_type": "execute_result"
    }
   ],
   "source": [
    "gbm_clinical_path = './gbm_clinical.csv'\n",
    "gbm_clinical = pd.read_csv(gbm_clinical_path, index_col = 0)\n",
    "\n",
    "gbm_clinical = gbm_clinical[['submitter_id','vital_status','days_to_death','days_to_last_follow_up']]\n",
    "# gbm_clinical.dropna(subset= ['vital_status'], inplace =True)\n",
    "\n",
    "gbm_clinical = gbm_clinical.replace({'Dead': 1, 'Alive' : 0, 'Not Reported': 0}).fillna(0)\n",
    "\n",
    "gbm_clinical['overall_survival'] = [ max(i,j) for i,j in \n",
    "                                    zip(gbm_clinical['days_to_death'],gbm_clinical['days_to_last_follow_up'])]\n",
    "\n",
    "# gbm_clinical['days_to_last_follow_up'].unique()\n",
    "gbm_clinical"
   ]
  },
  {
   "cell_type": "code",
   "execution_count": 17,
   "metadata": {},
   "outputs": [
    {
     "name": "stdout",
     "output_type": "stream",
     "text": [
      "Multi-Class Log-Rank P: 0.0008933269159518827\n",
      "Kaplan Meier Plot constructed\n"
     ]
    },
    {
     "name": "stderr",
     "output_type": "stream",
     "text": [
      "/home/mihir/.local/lib/python3.8/site-packages/pyNBS/pyNBS_plotting.py:107: UserWarning: Matplotlib is currently using agg, which is a non-GUI backend, so cannot show the figure.\n",
      "  plt.show()\n"
     ]
    },
    {
     "data": {
      "image/png": "[encoded data removed]",
      "text/plain": [
       "<IPython.core.display.Image object>"
      ]
     },
     "execution_count": 17,
     "metadata": {
      "image/png": {
       "height": 600,
       "width": 600
      }
     },
     "output_type": "execute_result"
    }
   ],
   "source": [
    "# survival Data\n",
    "surv_data = './survival_GBM.csv'\n",
    "\n",
    "gbm_clinical.to_csv(surv_data, index = False)\n",
    "\n",
    "# Plot KM Plot for patient clusters\n",
    "plot.cluster_KMplot(NBS_cluster_assign, surv_data, delimiter=',', **save_args)\n",
    "Image(filename = save_args['outdir']+save_args['job_name']+'_KM_plot.png', width=600, height=600)"
   ]
  },
  {
   "cell_type": "code",
   "execution_count": null,
   "metadata": {},
   "outputs": [],
   "source": []
  }
 ],
 "metadata": {
  "kernelspec": {
   "display_name": "Python 3",
   "language": "python",
   "name": "python3"
  },
  "language_info": {
   "codemirror_mode": {
    "name": "ipython",
    "version": 3
   },
   "file_extension": ".py",
   "mimetype": "text/x-python",
   "name": "python",
   "nbconvert_exporter": "python",
   "pygments_lexer": "ipython3",
   "version": "3.8.10"
  }
 },
 "nbformat": 4,
 "nbformat_minor": 1
}
